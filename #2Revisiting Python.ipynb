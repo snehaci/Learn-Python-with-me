{
 "cells": [
  {
   "cell_type": "code",
   "execution_count": 1,
   "id": "88328d47",
   "metadata": {},
   "outputs": [
    {
     "name": "stdout",
     "output_type": "stream",
     "text": [
      "True\n",
      "False\n",
      "False\n",
      "False\n",
      "False\n"
     ]
    }
   ],
   "source": [
    "#Booleans\n",
    "\n",
    "print(bool(\"hai\"))\n",
    "print(bool(0))\n",
    "print(bool(\"\"))\n",
    "print(bool({}))\n",
    "print(bool(None))\n",
    "\n",
    "#Any list, tuple, set, and dictionary are True, except empty ones"
   ]
  },
  {
   "cell_type": "code",
   "execution_count": 2,
   "id": "b52fe532",
   "metadata": {},
   "outputs": [
    {
     "name": "stdout",
     "output_type": "stream",
     "text": [
      "Yes\n"
     ]
    }
   ],
   "source": [
    "def samp1():\n",
    "    return 1\n",
    "if True:\n",
    "    print(\"Yes\")\n",
    "else:\n",
    "    print(\"No\")"
   ]
  },
  {
   "cell_type": "code",
   "execution_count": 3,
   "id": "86037926",
   "metadata": {},
   "outputs": [
    {
     "name": "stdout",
     "output_type": "stream",
     "text": [
      "False\n"
     ]
    }
   ],
   "source": [
    "# To determine if an object is of a certain data type\n",
    "h = 8\n",
    "print(isinstance(h,str))"
   ]
  },
  {
   "cell_type": "code",
   "execution_count": 4,
   "id": "991a3548",
   "metadata": {},
   "outputs": [
    {
     "ename": "SyntaxError",
     "evalue": "invalid syntax (1338237343.py, line 2)",
     "output_type": "error",
     "traceback": [
      "\u001b[1;36m  Input \u001b[1;32mIn [4]\u001b[1;36m\u001b[0m\n\u001b[1;33m    Python divides the operators in the following groups:\u001b[0m\n\u001b[1;37m           ^\u001b[0m\n\u001b[1;31mSyntaxError\u001b[0m\u001b[1;31m:\u001b[0m invalid syntax\n"
     ]
    }
   ],
   "source": [
    "# Operators (a2climb)\n",
    "Python divides the operators in the following groups:\n",
    "\n",
    "Arithmetic operators --->   +,-,*,/,%,**,//\n",
    "Assignment operators --->   =,+=,-=,*=,/=,%=,**=,//=,&=,|=,^=,>>=,<<=\n",
    "Comparison operators --->   ==,<,>,<=,>=,!=,\n",
    "Logical operators    --->   and,or,not\n",
    "Identity operators   --->   is, is not\n",
    "Membership operators --->   in, not in\n",
    "Bitwise operators    --->   &,|,~,^,<<,>>"
   ]
  },
  {
   "cell_type": "code",
   "execution_count": null,
   "id": "c9185655",
   "metadata": {},
   "outputs": [],
   "source": [
    "#Operator        Description\n",
    "()          \tParentheses\n",
    "**          \tExponentiation\n",
    "+x  -x  ~x  \tUnary plus, unary minus, and bitwise NOT\n",
    "*  /  //  % \tMultiplication, division, floor division, and modulus\n",
    "+  -        \tAddition and subtraction\n",
    "<<  >>      \tBitwise left and right shifts\n",
    "&           \tBitwise AND\n",
    "^           \tBitwise XOR\n",
    "|           \tBitwise OR\n",
    "==  !=  >  >=  <  <=  is  is not  in  not in    \tComparisons, identity, and membership operators\n",
    "not         \tLogical NOT\n",
    "and         \tAND\n",
    "or          \tOR"
   ]
  },
  {
   "cell_type": "code",
   "execution_count": null,
   "id": "3ed2d3c4",
   "metadata": {},
   "outputs": [],
   "source": [
    "\n",
    "List\n",
    "Lists are used to store multiple items in a single variable.\n",
    "\n",
    "Lists are one of 4 built-in data types in Python used to store collections of data, the other 3 are \n",
    "Tuple, Set, and Dictionary, all with different qualities and usage.\n",
    "\n",
    "Lists are created using square brackets:\n",
    "\n",
    "\n",
    "# List r ordered, if added a new item -> will be added at the end\n",
    "#Mutable\n",
    "#Allows duplicates"
   ]
  },
  {
   "cell_type": "code",
   "execution_count": 5,
   "id": "2c969b01",
   "metadata": {},
   "outputs": [],
   "source": [
    "l = ['milky bar','kitkat','gonemad']"
   ]
  },
  {
   "cell_type": "code",
   "execution_count": 6,
   "id": "f695124b",
   "metadata": {},
   "outputs": [
    {
     "data": {
      "text/plain": [
       "'kitkat'"
      ]
     },
     "execution_count": 6,
     "metadata": {},
     "output_type": "execute_result"
    }
   ],
   "source": [
    "#indexing\n",
    "l[-2]"
   ]
  },
  {
   "cell_type": "code",
   "execution_count": 7,
   "id": "c93f6391",
   "metadata": {},
   "outputs": [],
   "source": [
    "l1 = ['angel','meera','karthik',5,9.0]"
   ]
  },
  {
   "cell_type": "code",
   "execution_count": 8,
   "id": "9acae1c8",
   "metadata": {},
   "outputs": [
    {
     "data": {
      "text/plain": [
       "list"
      ]
     },
     "execution_count": 8,
     "metadata": {},
     "output_type": "execute_result"
    }
   ],
   "source": [
    "type(l1)"
   ]
  },
  {
   "cell_type": "code",
   "execution_count": 9,
   "id": "94985138",
   "metadata": {},
   "outputs": [
    {
     "name": "stdout",
     "output_type": "stream",
     "text": [
      "[9, 'kit', None]\n"
     ]
    }
   ],
   "source": [
    "# List Conatructor\n",
    "k = list((9,\"kit\",None))\n",
    "print(k)\n"
   ]
  },
  {
   "cell_type": "code",
   "execution_count": null,
   "id": "5ad3fc31",
   "metadata": {},
   "outputs": [],
   "source": [
    "Python Collections (Arrays)\n",
    "There are four collection data types in the Python programming language:\n",
    "\n",
    "List is a collection which is ordered and changeable. Allows duplicate members.\n",
    "Tuple is a collection which is ordered and unchangeable. Allows duplicate members.\n",
    "Set is a collection which is unordered, unchangeable*, and unindexed. No duplicate members.\n",
    "Dictionary is a collection which is ordered** and changeable. No duplicate members.\n",
    "\n",
    "*Set items are unchangeable, but you can remove and/or add items whenever you like.\n",
    "\n",
    "**As of Python version 3.7, dictionaries are ordered. In Python 3.6 and earlier, \n",
    "dictionaries are unordered."
   ]
  },
  {
   "cell_type": "code",
   "execution_count": 10,
   "id": "b11e64ab",
   "metadata": {},
   "outputs": [
    {
     "name": "stdout",
     "output_type": "stream",
     "text": [
      "[9, 'kit']\n"
     ]
    }
   ],
   "source": [
    "print(k[:2])"
   ]
  },
  {
   "cell_type": "code",
   "execution_count": 11,
   "id": "d1c177d5",
   "metadata": {},
   "outputs": [
    {
     "data": {
      "text/plain": [
       "[9, 'kit', 'omg']"
      ]
     },
     "execution_count": 11,
     "metadata": {},
     "output_type": "execute_result"
    }
   ],
   "source": [
    "#change elements\n",
    "k[-1] = \"omg\"\n",
    "k"
   ]
  },
  {
   "cell_type": "code",
   "execution_count": 12,
   "id": "6398ee34",
   "metadata": {},
   "outputs": [],
   "source": [
    "k[:2] = ['ok',8]"
   ]
  },
  {
   "cell_type": "code",
   "execution_count": 13,
   "id": "2aa10b58",
   "metadata": {},
   "outputs": [
    {
     "data": {
      "text/plain": [
       "['ok', 8, 'omg']"
      ]
     },
     "execution_count": 13,
     "metadata": {},
     "output_type": "execute_result"
    }
   ],
   "source": [
    "k"
   ]
  },
  {
   "cell_type": "code",
   "execution_count": 14,
   "id": "fca22c80",
   "metadata": {},
   "outputs": [
    {
     "data": {
      "text/plain": [
       "['kitty', 0, True, 8, 'omg']"
      ]
     },
     "execution_count": 14,
     "metadata": {},
     "output_type": "execute_result"
    }
   ],
   "source": [
    "k[:1] = ['kitty',0,True]\n",
    "k"
   ]
  },
  {
   "cell_type": "code",
   "execution_count": 15,
   "id": "7e8138b9",
   "metadata": {},
   "outputs": [
    {
     "data": {
      "text/plain": [
       "True"
      ]
     },
     "execution_count": 15,
     "metadata": {},
     "output_type": "execute_result"
    }
   ],
   "source": [
    "k[-3]"
   ]
  },
  {
   "cell_type": "code",
   "execution_count": 16,
   "id": "5bea4e48",
   "metadata": {},
   "outputs": [],
   "source": [
    "k[1:2] = [\"ohoo\"]"
   ]
  },
  {
   "cell_type": "code",
   "execution_count": 17,
   "id": "e2b003f7",
   "metadata": {},
   "outputs": [
    {
     "data": {
      "text/plain": [
       "['kitty', 'ohoo', True, 8, 'omg']"
      ]
     },
     "execution_count": 17,
     "metadata": {},
     "output_type": "execute_result"
    }
   ],
   "source": [
    "k"
   ]
  },
  {
   "cell_type": "code",
   "execution_count": 18,
   "id": "23e31f98",
   "metadata": {},
   "outputs": [],
   "source": [
    "k[:-1]=[\"hmm\"]"
   ]
  },
  {
   "cell_type": "code",
   "execution_count": 19,
   "id": "56b2eada",
   "metadata": {},
   "outputs": [
    {
     "data": {
      "text/plain": [
       "['hmm', 'omg']"
      ]
     },
     "execution_count": 19,
     "metadata": {},
     "output_type": "execute_result"
    }
   ],
   "source": [
    "k"
   ]
  },
  {
   "cell_type": "code",
   "execution_count": 20,
   "id": "13fb9ba5",
   "metadata": {},
   "outputs": [
    {
     "name": "stdout",
     "output_type": "stream",
     "text": [
      "['hmm', 'omg']\n",
      "['hello', 'hmm', 'omg']\n"
     ]
    }
   ],
   "source": [
    "#without changing values\n",
    "print(k)\n",
    "k.insert(0,\"hello\")\n",
    "print(k)"
   ]
  },
  {
   "cell_type": "code",
   "execution_count": 21,
   "id": "7e5d460a",
   "metadata": {},
   "outputs": [
    {
     "name": "stdout",
     "output_type": "stream",
     "text": [
      "['hello', 'hmm', 'omg', 'ok']\n"
     ]
    }
   ],
   "source": [
    "# insert at last\n",
    "k.append(\"ok\")\n",
    "print(k)"
   ]
  },
  {
   "cell_type": "code",
   "execution_count": 22,
   "id": "e1bf50ab",
   "metadata": {},
   "outputs": [
    {
     "name": "stdout",
     "output_type": "stream",
     "text": [
      "['milky bar', 'kitkat', 'gonemad']\n",
      "['angel', 'meera', 'karthik', 5, 9.0]\n"
     ]
    }
   ],
   "source": [
    "print(l)\n",
    "print(l1)"
   ]
  },
  {
   "cell_type": "code",
   "execution_count": 23,
   "id": "cf0bf9aa",
   "metadata": {},
   "outputs": [
    {
     "name": "stdout",
     "output_type": "stream",
     "text": [
      "['milky bar', 'kitkat', 'gonemad', 'angel', 'meera', 'karthik', 5, 9.0]\n"
     ]
    }
   ],
   "source": [
    "l.extend(l1)\n",
    "print(l)\n",
    "\n",
    "# The extend() method does not have to append lists, you can add any \n",
    "# iterable object (tuples, sets, dictionaries etc.)."
   ]
  },
  {
   "cell_type": "code",
   "execution_count": 24,
   "id": "873695d4",
   "metadata": {},
   "outputs": [
    {
     "name": "stdout",
     "output_type": "stream",
     "text": [
      "['milky bar', 'kitkat', 'angel', 'meera', 'karthik', 5, 9.0]\n"
     ]
    }
   ],
   "source": [
    "# Remove items\n",
    "l.remove('gonemad')\n",
    "print(l)"
   ]
  },
  {
   "cell_type": "code",
   "execution_count": 25,
   "id": "c1b79a66",
   "metadata": {},
   "outputs": [
    {
     "name": "stdout",
     "output_type": "stream",
     "text": [
      "['milky bar', 'kitkat', 'angel', 'karthik', 5, 9.0]\n"
     ]
    }
   ],
   "source": [
    "l.pop(3)\n",
    "print(l)"
   ]
  },
  {
   "cell_type": "code",
   "execution_count": 26,
   "id": "08c0bfa8",
   "metadata": {},
   "outputs": [
    {
     "name": "stdout",
     "output_type": "stream",
     "text": [
      "['milky bar', 'kitkat', 'angel', 'karthik', 5]\n"
     ]
    }
   ],
   "source": [
    "l.pop()\n",
    "print(l)"
   ]
  },
  {
   "cell_type": "code",
   "execution_count": 27,
   "id": "1d432a23",
   "metadata": {},
   "outputs": [
    {
     "name": "stdout",
     "output_type": "stream",
     "text": [
      "['kitkat', 'angel', 'karthik', 5]\n"
     ]
    }
   ],
   "source": [
    "del l[-5]\n",
    "print(l)"
   ]
  },
  {
   "cell_type": "code",
   "execution_count": 28,
   "id": "5e0b0c4e",
   "metadata": {},
   "outputs": [
    {
     "name": "stdout",
     "output_type": "stream",
     "text": [
      "['kitkat', 'angel', 'karthik', 5]\n"
     ]
    }
   ],
   "source": [
    "print(l)\n",
    "del l\n"
   ]
  },
  {
   "cell_type": "code",
   "execution_count": 29,
   "id": "d3576e21",
   "metadata": {},
   "outputs": [
    {
     "name": "stdout",
     "output_type": "stream",
     "text": [
      "['hello', 'hmm', 'omg', 'ok']\n",
      "[]\n"
     ]
    }
   ],
   "source": [
    "print(k)\n",
    "k.clear()\n",
    "print(k)"
   ]
  },
  {
   "cell_type": "code",
   "execution_count": 30,
   "id": "969a3614",
   "metadata": {},
   "outputs": [
    {
     "name": "stdout",
     "output_type": "stream",
     "text": [
      "apple\n",
      "banana\n",
      "cherry\n"
     ]
    }
   ],
   "source": [
    "thislist = [\"apple\", \"banana\", \"cherry\"]\n",
    "i = 0\n",
    "while i < len(thislist):\n",
    "  print(thislist[i])\n",
    "  i = i + 1\n",
    " \n"
   ]
  },
  {
   "cell_type": "code",
   "execution_count": 31,
   "id": "09c5ab62",
   "metadata": {},
   "outputs": [
    {
     "name": "stdout",
     "output_type": "stream",
     "text": [
      "['apple', 'banana', 'cherry']\n"
     ]
    },
    {
     "data": {
      "text/plain": [
       "['BANANA']"
      ]
     },
     "execution_count": 31,
     "metadata": {},
     "output_type": "execute_result"
    }
   ],
   "source": [
    "print(thislist)\n",
    "[j.swapcase() for j in thislist if \"b\" in j]"
   ]
  },
  {
   "cell_type": "code",
   "execution_count": 32,
   "id": "7a6ef2a1",
   "metadata": {},
   "outputs": [
    {
     "name": "stdout",
     "output_type": "stream",
     "text": [
      "[0, 1, 2, 3, 4, 5, 6, 7, 8, 9, 10, 11]\n"
     ]
    }
   ],
   "source": [
    "j = [f for f in range(12)]\n",
    "print(j)"
   ]
  },
  {
   "cell_type": "code",
   "execution_count": 33,
   "id": "b19665e9",
   "metadata": {},
   "outputs": [
    {
     "name": "stdout",
     "output_type": "stream",
     "text": [
      "['hai', 'hai', 'hai']\n"
     ]
    }
   ],
   "source": [
    "p = ['hai' for fg in thislist]\n",
    "print(p)"
   ]
  },
  {
   "cell_type": "code",
   "execution_count": 34,
   "id": "5211dce6",
   "metadata": {},
   "outputs": [],
   "source": [
    "fr=['banana',9,False]\n",
    "newlist = [x if x != \"banana\" else \"orange\" for x in fr]"
   ]
  },
  {
   "cell_type": "code",
   "execution_count": 35,
   "id": "432bb77d",
   "metadata": {},
   "outputs": [
    {
     "name": "stdout",
     "output_type": "stream",
     "text": [
      "['orange', 9, False]\n"
     ]
    }
   ],
   "source": [
    "print(newlist)"
   ]
  },
  {
   "cell_type": "code",
   "execution_count": 36,
   "id": "c3fbcf80",
   "metadata": {},
   "outputs": [
    {
     "name": "stdout",
     "output_type": "stream",
     "text": [
      "[0, 2, 3, 5, 6, 70]\n"
     ]
    }
   ],
   "source": [
    "# List Sort\n",
    "n = [3,2,5,6,70,0]\n",
    "n.sort()\n",
    "print(n)"
   ]
  },
  {
   "cell_type": "code",
   "execution_count": 37,
   "id": "7cfd9111",
   "metadata": {},
   "outputs": [
    {
     "name": "stdout",
     "output_type": "stream",
     "text": [
      "[70, 6, 5, 3, 2, 0]\n"
     ]
    }
   ],
   "source": [
    "n.sort(reverse=True)\n",
    "print(n)"
   ]
  },
  {
   "cell_type": "code",
   "execution_count": 38,
   "id": "3cbc4b82",
   "metadata": {},
   "outputs": [
    {
     "name": "stdout",
     "output_type": "stream",
     "text": [
      "['banana', 'cherry', 'Kiwi', 'Orange']\n"
     ]
    }
   ],
   "source": [
    "# A case-insensitive sort function\n",
    "thislist = [\"banana\", \"Orange\", \"Kiwi\", \"cherry\"]\n",
    "thislist.sort(key = str.lower)\n",
    "print(thislist)"
   ]
  },
  {
   "cell_type": "code",
   "execution_count": 39,
   "id": "64c740dc",
   "metadata": {},
   "outputs": [
    {
     "name": "stdout",
     "output_type": "stream",
     "text": [
      "['Orange', 'Kiwi', 'cherry', 'banana']\n"
     ]
    }
   ],
   "source": [
    "thislist.reverse()\n",
    "print(thislist)"
   ]
  },
  {
   "cell_type": "code",
   "execution_count": 40,
   "id": "af06f58c",
   "metadata": {},
   "outputs": [
    {
     "name": "stdout",
     "output_type": "stream",
     "text": [
      "[0, 99, 89, 'people']\n",
      "[0, 99, 89, 'people']\n"
     ]
    }
   ],
   "source": [
    "h = [0,99,89,'people']\n",
    "b = h.copy()\n",
    "print(b)\n",
    "k = list(h)\n",
    "print(k)"
   ]
  },
  {
   "cell_type": "code",
   "execution_count": 41,
   "id": "95c88dff",
   "metadata": {},
   "outputs": [
    {
     "name": "stdout",
     "output_type": "stream",
     "text": [
      "[0, 99, 89, 'people', 0, 99, 89, 'people']\n"
     ]
    }
   ],
   "source": [
    "print(b+k)"
   ]
  },
  {
   "cell_type": "code",
   "execution_count": 42,
   "id": "8d26331a",
   "metadata": {},
   "outputs": [
    {
     "name": "stdout",
     "output_type": "stream",
     "text": [
      "[0, 99, 89, 'people', 0, 99, 89, 'people']\n"
     ]
    }
   ],
   "source": [
    "for i in k:\n",
    "    b.append(i)\n",
    "print(b)\n",
    "    "
   ]
  },
  {
   "cell_type": "code",
   "execution_count": 43,
   "id": "ea0c45e8",
   "metadata": {},
   "outputs": [
    {
     "name": "stdout",
     "output_type": "stream",
     "text": [
      "[0, 99, 89, 'people', 0, 99, 89, 'people', 0, 99, 89, 'people']\n"
     ]
    }
   ],
   "source": [
    "b.extend(k)\n",
    "print(b)"
   ]
  },
  {
   "cell_type": "code",
   "execution_count": 44,
   "id": "70f33443",
   "metadata": {},
   "outputs": [
    {
     "name": "stdout",
     "output_type": "stream",
     "text": [
      "__add__  ,  __class__  ,  __class_getitem__  ,  __contains__  ,  __delattr__  ,  __delitem__  ,  __dir__  ,  __doc__  ,  __eq__  ,  __format__  ,  __ge__  ,  __getattribute__  ,  __getitem__  ,  __gt__  ,  __hash__  ,  __iadd__  ,  __imul__  ,  __init__  ,  __init_subclass__  ,  __iter__  ,  __le__  ,  __len__  ,  __lt__  ,  __mul__  ,  __ne__  ,  __new__  ,  __reduce__  ,  __reduce_ex__  ,  __repr__  ,  __reversed__  ,  __rmul__  ,  __setattr__  ,  __setitem__  ,  __sizeof__  ,  __str__  ,  __subclasshook__  ,  append  ,  clear  ,  copy  ,  count  ,  extend  ,  index  ,  insert  ,  pop  ,  remove  ,  reverse  ,  sort\n"
     ]
    }
   ],
   "source": [
    "print(*dir(list),sep = \"  ,  \")\n",
    "# 'append', 'clear', 'copy', 'count', 'extend', 'index', 'insert', 'pop', 'remove', 'reverse', 'sort'"
   ]
  }
 ],
 "metadata": {
  "kernelspec": {
   "display_name": "Python 3 (ipykernel)",
   "language": "python",
   "name": "python3"
  },
  "language_info": {
   "codemirror_mode": {
    "name": "ipython",
    "version": 3
   },
   "file_extension": ".py",
   "mimetype": "text/x-python",
   "name": "python",
   "nbconvert_exporter": "python",
   "pygments_lexer": "ipython3",
   "version": "3.10.2"
  }
 },
 "nbformat": 4,
 "nbformat_minor": 5
}

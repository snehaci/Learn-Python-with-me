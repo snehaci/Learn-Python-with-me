{
 "cells": [
  {
   "cell_type": "code",
   "execution_count": 1,
   "id": "cb8a4d0f",
   "metadata": {},
   "outputs": [
    {
     "name": "stdout",
     "output_type": "stream",
     "text": [
      "Average :  46.5\n"
     ]
    }
   ],
   "source": [
    "# To find the total average\n",
    "marks = {\"Physics\":45,\"Maths\":48}\n",
    "print(\"Average : \",(marks[\"Physics\"]+marks[\"Maths\"])/2)"
   ]
  },
  {
   "cell_type": "code",
   "execution_count": 2,
   "id": "57bfcd2d",
   "metadata": {},
   "outputs": [
    {
     "name": "stdout",
     "output_type": "stream",
     "text": [
      "{'Physics': 45}\n"
     ]
    }
   ],
   "source": [
    "#Modifying the dictionary\n",
    "del marks[\"Maths\"]\n",
    "print(marks)"
   ]
  },
  {
   "cell_type": "code",
   "execution_count": 3,
   "id": "6cdb28dd",
   "metadata": {},
   "outputs": [
    {
     "name": "stdout",
     "output_type": "stream",
     "text": [
      "None\n"
     ]
    }
   ],
   "source": [
    "#Clear method\n",
    "s = {\"Physics\":45,\"Maths\":48}\n",
    "print(s.clear())"
   ]
  },
  {
   "cell_type": "code",
   "execution_count": 4,
   "id": "fb439da2",
   "metadata": {},
   "outputs": [
    {
     "name": "stdout",
     "output_type": "stream",
     "text": [
      "{'English': 50}\n"
     ]
    }
   ],
   "source": [
    "#adding a new element to the dictionary\n",
    "s[\"English\"]=50\n",
    "print(s)"
   ]
  },
  {
   "cell_type": "code",
   "execution_count": 5,
   "id": "a2d69016",
   "metadata": {},
   "outputs": [
    {
     "name": "stdout",
     "output_type": "stream",
     "text": [
      "How many elements?: 3\n",
      "Enter key: dad\n",
      "Enter value: 70\n",
      "Enter key: mom\n",
      "Enter value: 65\n",
      "Enter key: son\n",
      "Enter value: 30\n",
      "{'dad': '70', 'mom': '65', 'son': '30'}\n"
     ]
    }
   ],
   "source": [
    "family = {}\n",
    "num = int(input(\"How many elements?: \"))\n",
    "for i in range(num):\n",
    "    k = input(\"Enter key: \")\n",
    "    v = input(\"Enter value: \")\n",
    "    family.update({k:v})\n",
    "print(family)"
   ]
  },
  {
   "cell_type": "code",
   "execution_count": 6,
   "id": "68229907",
   "metadata": {},
   "outputs": [
    {
     "name": "stdout",
     "output_type": "stream",
     "text": [
      "dict_keys(['dad', 'mom', 'son'])\n"
     ]
    }
   ],
   "source": [
    "print(family.keys())"
   ]
  },
  {
   "cell_type": "code",
   "execution_count": 7,
   "id": "29602c68",
   "metadata": {},
   "outputs": [
    {
     "name": "stdout",
     "output_type": "stream",
     "text": [
      "sneha : ignatious\n",
      "rithu : varma\n"
     ]
    }
   ],
   "source": [
    "#To traverse dictionary in the same order\n",
    "#Use ordered dict class \n",
    "import collections\n",
    "j = collections.OrderedDict([(\"sneha\",\"ignatious\"),(\"rithu\",\"varma\")])\n",
    "for k in j.keys():\n",
    "    print(k,\":\",j[k])"
   ]
  },
  {
   "cell_type": "code",
   "execution_count": 8,
   "id": "cbc39361",
   "metadata": {},
   "outputs": [
    {
     "name": "stdout",
     "output_type": "stream",
     "text": [
      "New stack : [20, 30, 40]\n",
      "Stack after pop operation [20, 30]\n"
     ]
    }
   ],
   "source": [
    "# Stack\n",
    "s = []\n",
    "s.append(20)\n",
    "s.append(30)\n",
    "s.append(40)\n",
    "print(\"New stack :\",s)\n",
    "s.pop()\n",
    "print(\"Stack after pop operation\",s)\n"
   ]
  },
  {
   "cell_type": "code",
   "execution_count": 9,
   "id": "1a1a0b84",
   "metadata": {},
   "outputs": [
    {
     "name": "stdout",
     "output_type": "stream",
     "text": [
      "\n",
      "Queue :  10 20 30 40\n",
      "After popleft operation :  10 \n",
      "After second popleft operation :  0 \n",
      "After pop operation :  50 \n",
      "Final Queue 20 30 40\n"
     ]
    }
   ],
   "source": [
    "#Queue\n",
    "from collections import deque\n",
    "queue = deque([10,20,30,40])\n",
    "print(\"\\nQueue : \",*queue)\n",
    "print(\"After popleft operation : \",queue.popleft(),end=\" \")\n",
    "queue.append(50)\n",
    "queue.appendleft(0)\n",
    "print(\"\\nAfter second popleft operation : \",queue.popleft(),end=\" \")\n",
    "print(\"\\nAfter pop operation : \",queue.pop(),end=\" \")\n",
    "print(\"\\nFinal Queue\",*queue)"
   ]
  },
  {
   "cell_type": "code",
   "execution_count": 10,
   "id": "5856f0df",
   "metadata": {},
   "outputs": [
    {
     "name": "stdout",
     "output_type": "stream",
     "text": [
      "Set :  9 3 5\n",
      "Total of set :  17\n"
     ]
    }
   ],
   "source": [
    "#Set --->NO DUPLICATES\n",
    "#To create empty set, we use set() while in dictionary we use {}\n",
    "n = set()\n",
    "n.add(3)\n",
    "n.add(5)\n",
    "n.add(9)\n",
    "n.add(3)\n",
    "print(\"Set : \",*n)\n",
    "print(\"Total of set : \",sum(n))"
   ]
  },
  {
   "cell_type": "code",
   "execution_count": 11,
   "id": "ef6ceb31",
   "metadata": {},
   "outputs": [
    {
     "name": "stdout",
     "output_type": "stream",
     "text": [
      "Product of values in dictionary :  399\n",
      "Dictionary is as follows :  {'Luke': 21, 'Mark': 19}\n"
     ]
    }
   ],
   "source": [
    "#Dictionary\n",
    "no = {}\n",
    "no[\"Luke\"]=21\n",
    "no[\"Mark\"]=19\n",
    "prod = 1\n",
    "for key,val in no.items():\n",
    "    prod *=val\n",
    "print(\"Product of values in dictionary : \",prod)\n",
    "print(\"Dictionary is as follows : \",no)"
   ]
  },
  {
   "cell_type": "code",
   "execution_count": 12,
   "id": "4c2f7544",
   "metadata": {},
   "outputs": [
    {
     "name": "stdout",
     "output_type": "stream",
     "text": [
      "None\n",
      "19\n"
     ]
    }
   ],
   "source": [
    "j = no.get(\"John\",None)\n",
    "if j == None:\n",
    "    print(j)\n",
    "print(no.get(\"Mark\",None))\n"
   ]
  },
  {
   "cell_type": "code",
   "execution_count": 13,
   "id": "70bc750f",
   "metadata": {},
   "outputs": [
    {
     "name": "stdout",
     "output_type": "stream",
     "text": [
      "4 5 6\n",
      "5 6 3 2 9 8\n",
      "2 3 4 5 6 8 9\n"
     ]
    }
   ],
   "source": [
    "#Ascending in set\n",
    "k = set(map(int,input().split()))\n",
    "l = set(map(int,input().split()))\n",
    "k = k.union(l)\n",
    "\n",
    "print(*sorted(set(k)))"
   ]
  },
  {
   "cell_type": "code",
   "execution_count": 14,
   "id": "ca1dce3d",
   "metadata": {},
   "outputs": [
    {
     "name": "stdout",
     "output_type": "stream",
     "text": [
      "Enter your favourite Emoji : ✌\n"
     ]
    },
    {
     "data": {
      "text/plain": [
       "'✌✌✌✌✌'"
      ]
     },
     "execution_count": 14,
     "metadata": {},
     "output_type": "execute_result"
    }
   ],
   "source": [
    "# A simple function\n",
    "def emoji(e):\n",
    "    return e*5\n",
    "e = input(\"Enter your favourite Emoji : \")\n",
    "emoji(e)"
   ]
  },
  {
   "cell_type": "code",
   "execution_count": 15,
   "id": "8126386c",
   "metadata": {},
   "outputs": [
    {
     "data": {
      "text/plain": [
       "[3, 4, 5]"
      ]
     },
     "execution_count": 15,
     "metadata": {},
     "output_type": "execute_result"
    }
   ],
   "source": [
    "# Modified list\n",
    "def list1(n):\n",
    "    n = [3,4,5]\n",
    "    return n\n",
    "n = [4,5,2]\n",
    "list1(n)"
   ]
  },
  {
   "cell_type": "code",
   "execution_count": 16,
   "id": "8776019d",
   "metadata": {},
   "outputs": [
    {
     "name": "stdout",
     "output_type": "stream",
     "text": [
      "20\n",
      "80\n"
     ]
    }
   ],
   "source": [
    "#functions --> default arguments\n",
    "def age(a = 80):\n",
    "    print(a)\n",
    "    \n",
    "age(20)\n",
    "age()\n"
   ]
  },
  {
   "cell_type": "code",
   "execution_count": 17,
   "id": "c1e7c7b4",
   "metadata": {},
   "outputs": [
    {
     "name": "stdout",
     "output_type": "stream",
     "text": [
      "The Resultant product is 👉 120\n",
      "The Resultant product is 👉 0\n"
     ]
    }
   ],
   "source": [
    "def prod(*n):\n",
    "    p=1\n",
    "    for i in n:\n",
    "        p*=i\n",
    "    print(\"The Resultant product is 👉\",p)\n",
    "\n",
    "prod(2,3,4,5)\n",
    "prod(3,23,56,78,0,2,0,1)"
   ]
  }
 ],
 "metadata": {
  "kernelspec": {
   "display_name": "Python 3 (ipykernel)",
   "language": "python",
   "name": "python3"
  },
  "language_info": {
   "codemirror_mode": {
    "name": "ipython",
    "version": 3
   },
   "file_extension": ".py",
   "mimetype": "text/x-python",
   "name": "python",
   "nbconvert_exporter": "python",
   "pygments_lexer": "ipython3",
   "version": "3.10.2"
  }
 },
 "nbformat": 4,
 "nbformat_minor": 5
}

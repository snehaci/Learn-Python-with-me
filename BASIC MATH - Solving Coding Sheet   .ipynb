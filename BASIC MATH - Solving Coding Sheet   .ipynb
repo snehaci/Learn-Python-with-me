{
 "cells": [
  {
   "cell_type": "code",
   "execution_count": 1,
   "id": "0344ec0d",
   "metadata": {},
   "outputs": [
    {
     "name": "stdout",
     "output_type": "stream",
     "text": [
      "Enter number :86\n",
      "Even\n"
     ]
    }
   ],
   "source": [
    "# Find even or odd 1>Brute force approach 2>ternary operator 3>bitwise operator\n",
    "number = int(input(\"Enter number :\"))\n",
    "print(\"Even\" if number%2==0 else \"Odd\")"
   ]
  },
  {
   "cell_type": "code",
   "execution_count": 6,
   "id": "a5cd1f41",
   "metadata": {},
   "outputs": [
    {
     "name": "stdout",
     "output_type": "stream",
     "text": [
      "1\n",
      "Odd\n"
     ]
    }
   ],
   "source": [
    "# Bitwise opertor\n",
    "no = int(input())\n",
    "print(\"Odd\" if no & 1 else \"Even\")"
   ]
  },
  {
   "cell_type": "code",
   "execution_count": 4,
   "id": "8f122e94",
   "metadata": {},
   "outputs": [
    {
     "name": "stdout",
     "output_type": "stream",
     "text": [
      "Enter a no:-90\n",
      "0\n"
     ]
    }
   ],
   "source": [
    "# Find last digit in a number\n",
    "num = int(input(\"Enter a no:\"))\n",
    "print(abs(num)%10) # returns Absolute value of a number"
   ]
  },
  {
   "cell_type": "code",
   "execution_count": 14,
   "id": "6ad8c4ff",
   "metadata": {},
   "outputs": [
    {
     "name": "stdout",
     "output_type": "stream",
     "text": [
      "0987\n",
      "7\n"
     ]
    }
   ],
   "source": [
    "# another approach\n",
    "num = int(input())\n",
    "l = str(num)\n",
    "print(l[-1])"
   ]
  },
  {
   "cell_type": "code",
   "execution_count": 16,
   "id": "f1b5b377",
   "metadata": {},
   "outputs": [
    {
     "name": "stdout",
     "output_type": "stream",
     "text": [
      "469822\n",
      "6\n"
     ]
    }
   ],
   "source": [
    "# count digits in a number\n",
    "n = int(input())\n",
    "count = 0\n",
    "for i in str(n):\n",
    "    count += 1\n",
    "print(count)"
   ]
  },
  {
   "cell_type": "code",
   "execution_count": 5,
   "id": "a92327a0",
   "metadata": {},
   "outputs": [
    {
     "name": "stdout",
     "output_type": "stream",
     "text": [
      "6\n"
     ]
    }
   ],
   "source": [
    "# iterative approach\n",
    "n = 890750\n",
    "c = 0\n",
    "while(n>0):\n",
    "    n = n//10\n",
    "    c += 1\n",
    "print(c)"
   ]
  },
  {
   "cell_type": "code",
   "execution_count": 21,
   "id": "4347c046",
   "metadata": {},
   "outputs": [
    {
     "name": "stdout",
     "output_type": "stream",
     "text": [
      "856\n",
      "3\n"
     ]
    }
   ],
   "source": [
    "# recursive approach\n",
    "def Count(n):\n",
    "    if n//10 == 0:\n",
    "        return 1\n",
    "    return 1+Count(n//10)\n",
    "n = int(input())\n",
    "print(Count(n))\n",
    "        "
   ]
  },
  {
   "cell_type": "code",
   "execution_count": 23,
   "id": "67e201ec",
   "metadata": {},
   "outputs": [
    {
     "name": "stdout",
     "output_type": "stream",
     "text": [
      "956854\n",
      "6\n"
     ]
    }
   ],
   "source": [
    "n = int(input())\n",
    "print(len(str(n)))"
   ]
  },
  {
   "cell_type": "code",
   "execution_count": 25,
   "id": "cc4f31ab",
   "metadata": {},
   "outputs": [
    {
     "name": "stdout",
     "output_type": "stream",
     "text": [
      "6543\n"
     ]
    }
   ],
   "source": [
    "# Reverse a number\n",
    "no = 3456\n",
    "print(str(no)[::-1])"
   ]
  },
  {
   "cell_type": "code",
   "execution_count": 30,
   "id": "7ab1c32f",
   "metadata": {},
   "outputs": [
    {
     "name": "stdout",
     "output_type": "stream",
     "text": [
      "7098"
     ]
    }
   ],
   "source": [
    "n = 8907\n",
    "r = 0\n",
    "while(n!=0):\n",
    "    r = n%10\n",
    "    n = n//10\n",
    "    print(r,end=\"\")"
   ]
  },
  {
   "cell_type": "code",
   "execution_count": 1,
   "id": "82c23d9e",
   "metadata": {},
   "outputs": [
    {
     "name": "stdout",
     "output_type": "stream",
     "text": [
      "[8, 5, 4, 3]\n"
     ]
    }
   ],
   "source": [
    "# Reversing a array\n",
    "a = [3,4,5,8]\n",
    "print(a[::-1])"
   ]
  },
  {
   "cell_type": "code",
   "execution_count": 2,
   "id": "8b9a70de",
   "metadata": {},
   "outputs": [
    {
     "name": "stdout",
     "output_type": "stream",
     "text": [
      "7\n",
      "8\n",
      "9\n",
      "0\n"
     ]
    }
   ],
   "source": [
    "a = [0,9,8,7]\n",
    "for i in reversed(a):\n",
    "    print(i)"
   ]
  },
  {
   "cell_type": "code",
   "execution_count": 12,
   "id": "80c26596",
   "metadata": {},
   "outputs": [
    {
     "name": "stdout",
     "output_type": "stream",
     "text": [
      "[3, 6, 7, 8, 9]\n"
     ]
    }
   ],
   "source": [
    "def Revarray(a,start,end):\n",
    "    if start >= end: \n",
    "        return\n",
    "    a[start],a[end] = a[end],a[start]\n",
    "    Revarray(a,start+1,end-1)\n",
    "    \n",
    "a = [9,8,7,6,3]\n",
    "Revarray(a,0,len(a)-1)\n",
    "print(a)"
   ]
  },
  {
   "cell_type": "code",
   "execution_count": 13,
   "id": "f6c19b31",
   "metadata": {},
   "outputs": [
    {
     "name": "stdout",
     "output_type": "stream",
     "text": [
      "2 3\n",
      "8\n"
     ]
    }
   ],
   "source": [
    "n,m = map(int,input().split())\n",
    "print(n**m)"
   ]
  },
  {
   "cell_type": "code",
   "execution_count": 17,
   "id": "7df6f06c",
   "metadata": {},
   "outputs": [
    {
     "name": "stdout",
     "output_type": "stream",
     "text": [
      "2 3\n",
      "8\n"
     ]
    }
   ],
   "source": [
    "n,m = map(int,input().split())\n",
    "s=1\n",
    "for i in range(m):\n",
    "    s = s*n\n",
    "print(s)"
   ]
  },
  {
   "cell_type": "code",
   "execution_count": 18,
   "id": "435ff6e5",
   "metadata": {},
   "outputs": [
    {
     "name": "stdout",
     "output_type": "stream",
     "text": [
      "2 3\n",
      "8\n"
     ]
    }
   ],
   "source": [
    "n,m = map(int,input().split())\n",
    "print(pow(n,m))"
   ]
  },
  {
   "cell_type": "code",
   "execution_count": 6,
   "id": "82bfe6c6",
   "metadata": {},
   "outputs": [
    {
     "name": "stdout",
     "output_type": "stream",
     "text": [
      "36 60\n",
      "Gcd is 12\n"
     ]
    }
   ],
   "source": [
    "# GCD of 2 num's\n",
    "def Gcd(a,b):\n",
    "    if(a<b):\n",
    "        a,b = b,a\n",
    "    else:\n",
    "        a,b=a,b\n",
    "    if(b==0):\n",
    "        return a\n",
    "    while(b!=0):\n",
    "        if(a%b==0):\n",
    "            return b\n",
    "        else:\n",
    "            a,b=b,a%b\n",
    "\n",
    "        \n",
    "a,b = map(int,input().split())\n",
    "print(\"Gcd is\",Gcd(a,b))\n"
   ]
  },
  {
   "cell_type": "code",
   "execution_count": 22,
   "id": "228d4d3a",
   "metadata": {},
   "outputs": [
    {
     "name": "stdout",
     "output_type": "stream",
     "text": [
      "50\n",
      "1\n",
      "2\n",
      "5\n",
      "10\n",
      "25\n",
      "50\n"
     ]
    }
   ],
   "source": [
    "# print all divisors or factors of a number\n",
    "n = int(input())\n",
    "for i in range(1,n+1):\n",
    "    if(n%i==0):\n",
    "        print(i)"
   ]
  },
  {
   "cell_type": "code",
   "execution_count": 17,
   "id": "6b900473",
   "metadata": {},
   "outputs": [
    {
     "name": "stdout",
     "output_type": "stream",
     "text": [
      "9\n",
      "P\n"
     ]
    }
   ],
   "source": [
    "# print if a num is prime or not\n",
    "\n",
    "def IsPrime(n):\n",
    "    #for i in range(2,(n**0.5)+1):\n",
    "    for i in range(2,int(n/2)+1):\n",
    "        if(n%i==0):\n",
    "            return False\n",
    "        else:\n",
    "            return True\n",
    "\n",
    "\n",
    "n = int(input())\n",
    "print(\"P\" if IsPrime(n) else \"C\")\n"
   ]
  },
  {
   "cell_type": "code",
   "execution_count": 50,
   "id": "bb0529b0",
   "metadata": {},
   "outputs": [
    {
     "name": "stdout",
     "output_type": "stream",
     "text": [
      "24678050\n",
      "Armstrong number\n"
     ]
    }
   ],
   "source": [
    "# Armstrong number --153 = 1^3 + 5 ^3 + 3^3\n",
    "def Count(num): # To count the number of digits\n",
    "    count,rem = 0,0\n",
    "    while(num!=0):\n",
    "        rem = num % 10\n",
    "        num = num//10\n",
    "        count += 1\n",
    "    return count\n",
    "\n",
    "def Check(num,COUNT): # Calculation for armstrong number\n",
    "    Rem,A = 0,0\n",
    "    while(num!=0):\n",
    "        Rem = num%10\n",
    "        num = num//10\n",
    "        A += Rem**COUNT\n",
    "    return A\n",
    "        \n",
    "def Armstrong(num,Armstrng): # If Armstrong number or not\n",
    "    if(num == Armstrng):\n",
    "        return True\n",
    "    else:\n",
    "        return False\n",
    "\n",
    "num = int(input()) \n",
    "COUNT = Count(num) #len(str(num))\n",
    "Armstrng = Check(num,COUNT)\n",
    "print(\"Armstrong number\" if Armstrong(num,Armstrng) else \"Not a Armstrong number\")    "
   ]
  },
  {
   "cell_type": "code",
   "execution_count": 52,
   "id": "98488195",
   "metadata": {},
   "outputs": [
    {
     "name": "stdout",
     "output_type": "stream",
     "text": [
      "1342\n",
      "OH no...\n"
     ]
    }
   ],
   "source": [
    "# Check for Palindrome\n",
    "n = input()\n",
    "s = str(n)\n",
    "print(\"Palindrome\" if s[::-1]==s else \"OH no...\")"
   ]
  },
  {
   "cell_type": "code",
   "execution_count": 70,
   "id": "7b692961",
   "metadata": {},
   "outputs": [
    {
     "name": "stdout",
     "output_type": "stream",
     "text": [
      "1234\n",
      "NO\n"
     ]
    }
   ],
   "source": [
    "def Pali(n):\n",
    "    rem, l = 0,''\n",
    "    while(n!=0):\n",
    "        rem = n%10\n",
    "        n = n//10\n",
    "        l += str(rem) \n",
    "    return l\n",
    "    \n",
    "\n",
    "n = int(input())\n",
    "print(\"Palindrome\" if(Pali(n)==str(n)) else \"NO\" )"
   ]
  },
  {
   "cell_type": "code",
   "execution_count": 76,
   "id": "45e6a412",
   "metadata": {},
   "outputs": [
    {
     "name": "stdout",
     "output_type": "stream",
     "text": [
      "7117\n",
      "Palindrome\n"
     ]
    }
   ],
   "source": [
    "def Pali(n):\n",
    "    rem, reverse = 0,0\n",
    "    while(n!=0):\n",
    "        reverse = (reverse * 10) + (n%10) ###\n",
    "        n = n//10\n",
    "    return reverse\n",
    "    \n",
    "\n",
    "n = int(input())\n",
    "print(\"Palindrome\" if(Pali(n)==n) else \"NO\" )"
   ]
  },
  {
   "cell_type": "code",
   "execution_count": 84,
   "id": "d5e84f89",
   "metadata": {},
   "outputs": [
    {
     "name": "stdout",
     "output_type": "stream",
     "text": [
      "65\n",
      "8\n"
     ]
    }
   ],
   "source": [
    "# Square root\n",
    "n = int(input())\n",
    "k = 0\n",
    "for i in range(n):\n",
    "    if(i*i == n):\n",
    "        print(i)\n",
    "    elif(i*i > n):\n",
    "        break\n",
    "    k = i\n",
    "print(k)\n",
    "    "
   ]
  },
  {
   "cell_type": "code",
   "execution_count": 106,
   "id": "922c8b28",
   "metadata": {},
   "outputs": [
    {
     "name": "stdout",
     "output_type": "stream",
     "text": [
      "6\n",
      "2\n"
     ]
    }
   ],
   "source": [
    "n = int(input())\n",
    "print(round(pow(n,0.5)))"
   ]
  },
  {
   "cell_type": "code",
   "execution_count": 116,
   "id": "7ba06c0e",
   "metadata": {},
   "outputs": [
    {
     "name": "stdout",
     "output_type": "stream",
     "text": [
      "8128\n",
      "Perfect num\n"
     ]
    }
   ],
   "source": [
    "# Perfect number 6--> 1,2,3 = sum = 6\n",
    "no =int(input())\n",
    "li,summ = [],0\n",
    "for i in range(1,(no//2)+1):\n",
    "    if(no%i==0):\n",
    "        li.append(i)\n",
    "\n",
    "for i in range(len(li)):\n",
    "    summ += li[i]\n",
    "    \n",
    "print(\"Perfect num\" if(no==summ) else \"No No....\")\n",
    "\n",
    "# Till 1000 the P no's r 6,28,496,8128"
   ]
  }
 ],
 "metadata": {
  "kernelspec": {
   "display_name": "Python 3 (ipykernel)",
   "language": "python",
   "name": "python3"
  },
  "language_info": {
   "codemirror_mode": {
    "name": "ipython",
    "version": 3
   },
   "file_extension": ".py",
   "mimetype": "text/x-python",
   "name": "python",
   "nbconvert_exporter": "python",
   "pygments_lexer": "ipython3",
   "version": "3.10.2"
  }
 },
 "nbformat": 4,
 "nbformat_minor": 5
}

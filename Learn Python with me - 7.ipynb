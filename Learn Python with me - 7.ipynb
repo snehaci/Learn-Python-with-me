{
 "cells": [
  {
   "cell_type": "code",
   "execution_count": 1,
   "id": "bcb0d211",
   "metadata": {},
   "outputs": [
    {
     "name": "stdout",
     "output_type": "stream",
     "text": [
      "A Number? 345\n",
      "Not a perfect Number\n"
     ]
    }
   ],
   "source": [
    "# Perfect number ---> A number is a perfect number if is equal to sum of its proper divisors, that is, sum of its positive divisors excluding the number itself.\n",
    "n = int(input(\"A Number? \"))\n",
    "emp =[]\n",
    "for i in range(1,n):\n",
    "    if(n%i==0):\n",
    "        emp.append(i)\n",
    "        \n",
    "if(sum(emp) == n):\n",
    "    print(\"Perfect Number\")\n",
    "else:\n",
    "    print(\"Not a perfect Number\")\n",
    "        "
   ]
  },
  {
   "cell_type": "code",
   "execution_count": 2,
   "id": "798d00a2",
   "metadata": {},
   "outputs": [
    {
     "name": "stdout",
     "output_type": "stream",
     "text": [
      "A number? 20\n",
      "Prime numbers till 20 are : \n",
      "2 3 5 7 11 13 17 19 "
     ]
    }
   ],
   "source": [
    "# To print prime numbers till N\n",
    "# Approach ---> If a number ‘n’ is not divided by any number less than or equals to the square root of n then, it will not be divided by any other number greater than the square root of n. So, we only need to check up to the square root of n. \n",
    "def isPrime(j):\n",
    "    if(j==1 or j ==0):\n",
    "        return False\n",
    "    for i in range(2,int(j**(1/2))+1):\n",
    "        if(j%i==0):\n",
    "            return False\n",
    "    return True\n",
    "\n",
    "#driver fn\n",
    "N = int(input(\"A number? \"))\n",
    "print(\"Prime numbers till %d are : \"%N)\n",
    "for i in range(1,N+1):\n",
    "    if(isPrime(i)):\n",
    "        print(i,end=\" \")"
   ]
  },
  {
   "cell_type": "code",
   "execution_count": 3,
   "id": "a0e5a27f",
   "metadata": {},
   "outputs": [
    {
     "name": "stdout",
     "output_type": "stream",
     "text": [
      "Enter a no : 77\n",
      "Prime\n"
     ]
    }
   ],
   "source": [
    "#To check if a number if prime or not\n",
    "n = int(input(\"Enter a no : \"))\n",
    "if n==1:\n",
    "    print(\"Not Prime\")\n",
    "for i in range(2,int(n**(1/2))+1):\n",
    "    if(n%i==0):\n",
    "        print(\"Not prime\")\n",
    "        break\n",
    "    else:\n",
    "        print(\"Prime\")\n",
    "        break\n",
    "else:\n",
    "    print(\"Prime\")"
   ]
  },
  {
   "cell_type": "code",
   "execution_count": 4,
   "id": "4fed2992",
   "metadata": {},
   "outputs": [
    {
     "name": "stdout",
     "output_type": "stream",
     "text": [
      "6\n",
      "5\n"
     ]
    }
   ],
   "source": [
    "# nth Fibonaccci number Using *** recursion ***\n",
    "def Fibonacci(n):\n",
    "    if n <= 0:\n",
    "        return \"Incorrect\"\n",
    "    elif n ==1:\n",
    "        return 0\n",
    "    elif n == 2:\n",
    "        return 1\n",
    "    else:\n",
    "        return Fibonacci(n-1)+Fibonacci(n-2)\n",
    "\n",
    "# Driver Program\n",
    "n = int(input())\n",
    "print(Fibonacci(n))"
   ]
  },
  {
   "cell_type": "code",
   "execution_count": 5,
   "id": "b682f0ce",
   "metadata": {},
   "outputs": [
    {
     "name": "stdout",
     "output_type": "stream",
     "text": [
      "A num50\n",
      "The 50th fibonacci number is 7778742049\n"
     ]
    }
   ],
   "source": [
    "# Function for nth fibonacci number using *** Dynamic Programming ***\n",
    "\n",
    "FibArray = [0, 1]\n",
    "def fibonacci(n):\n",
    "    if n<0:\n",
    "        print(\"Incorrect input\")\n",
    "    elif n<= len(FibArray):\n",
    "        return FibArray[n-1]\n",
    "    else:\n",
    "        temp_fib = fibonacci(n-1)+fibonacci(n-2)\n",
    "        FibArray.append(temp_fib)\n",
    "        return temp_fib\n",
    "\n",
    "# Driver Program\n",
    "h = int(input(\"A num\"))\n",
    "print(\"The %dth fibonacci number is %d\"%(h,fibonacci(h)))"
   ]
  },
  {
   "cell_type": "code",
   "execution_count": 6,
   "id": "21c15913",
   "metadata": {},
   "outputs": [
    {
     "name": "stdout",
     "output_type": "stream",
     "text": [
      "3\n"
     ]
    }
   ],
   "source": [
    "# Function for nth fibonacci number - Space Optimisation\n",
    "def fibonacci(n):\n",
    "    a = 0\n",
    "    b = 1\n",
    "    if n < 0:\n",
    "        print(\"Incorrect input\")\n",
    "    elif n == 0:\n",
    "        return a\n",
    "    elif n == 1:\n",
    "        return b\n",
    "    else:\n",
    "        for i in range(2, n):\n",
    "            c = a + b\n",
    "            a = b\n",
    "            b = c\n",
    "        return b\n",
    "\n",
    "#Driver prog\n",
    "print(fibonacci(5))"
   ]
  },
  {
   "cell_type": "code",
   "execution_count": 14,
   "id": "62d7671c",
   "metadata": {},
   "outputs": [
    {
     "name": "stdout",
     "output_type": "stream",
     "text": [
      "3\n"
     ]
    }
   ],
   "source": [
    "# creating an array in the function to find the nth number in fibonacci series\n",
    "\n",
    "def fibonacci (n):\n",
    "   if n<= 0:\n",
    "     return \"Incorrect Output\"\n",
    "   data = [0, 1]\n",
    "   if n > 2:\n",
    "        for i in range (2, n):\n",
    "            data.append(data[i-1] + data[i-2])\n",
    "        return data[n-1]\n",
    " \n",
    "# Driver Program\n",
    " \n",
    "print(fibonacci(5))"
   ]
  }
 ],
 "metadata": {
  "kernelspec": {
   "display_name": "Python 3 (ipykernel)",
   "language": "python",
   "name": "python3"
  },
  "language_info": {
   "codemirror_mode": {
    "name": "ipython",
    "version": 3
   },
   "file_extension": ".py",
   "mimetype": "text/x-python",
   "name": "python",
   "nbconvert_exporter": "python",
   "pygments_lexer": "ipython3",
   "version": "3.10.2"
  }
 },
 "nbformat": 4,
 "nbformat_minor": 5
}

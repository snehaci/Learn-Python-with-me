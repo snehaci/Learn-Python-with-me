{
 "cells": [
  {
   "cell_type": "markdown",
   "id": "dd04ceaf",
   "metadata": {},
   "source": [
    "# Python Tuples"
   ]
  },
  {
   "cell_type": "code",
   "execution_count": 1,
   "id": "a6067626",
   "metadata": {},
   "outputs": [
    {
     "name": "stdout",
     "output_type": "stream",
     "text": [
      "('sneha', 6, 9.0, True)\n"
     ]
    }
   ],
   "source": [
    "tup1 = (\"sneha\",6,9.0,True)\n",
    "print(tup1)"
   ]
  },
  {
   "cell_type": "markdown",
   "id": "af382643",
   "metadata": {},
   "source": [
    "## Tuples are used to store multiple items in a single variable.\n",
    "\n",
    "### A collection which is ordered, unchangeable and allow duplicate values.\n",
    "#### (round brackets)"
   ]
  },
  {
   "cell_type": "code",
   "execution_count": 2,
   "id": "3ab768d0",
   "metadata": {},
   "outputs": [
    {
     "name": "stdout",
     "output_type": "stream",
     "text": [
      "<class 'tuple'>\n",
      "<class 'str'>\n"
     ]
    }
   ],
   "source": [
    "# 1 Value Tuple\n",
    "thistuple = (\"apple\",)\n",
    "print(type(thistuple))\n",
    "\n",
    "#NOT a tuple\n",
    "thistuple = (\"apple\")\n",
    "print(type(thistuple))"
   ]
  },
  {
   "cell_type": "markdown",
   "id": "e9a7ee2e",
   "metadata": {},
   "source": [
    "### Tuple Constructor"
   ]
  },
  {
   "cell_type": "code",
   "execution_count": 3,
   "id": "f0d7178f",
   "metadata": {},
   "outputs": [
    {
     "name": "stdout",
     "output_type": "stream",
     "text": [
      "(8, 'aju', None)\n",
      "None\n",
      "(8, 'aju')\n"
     ]
    }
   ],
   "source": [
    "tup2 = tuple((8,'aju',None))\n",
    "print(tup2)\n",
    "print(tup2[-1]) # Accessing tuple\n",
    "print(tup2[:2]) # using range"
   ]
  },
  {
   "cell_type": "markdown",
   "id": "d5d7eb94",
   "metadata": {},
   "source": [
    "# Tuples are immutable (Means that we cannot change, add, or remove items once the tuple is created.)"
   ]
  },
  {
   "cell_type": "code",
   "execution_count": 4,
   "id": "a32ec699",
   "metadata": {},
   "outputs": [
    {
     "name": "stdout",
     "output_type": "stream",
     "text": [
      "('apple', 'kiwi', 'cherry')\n"
     ]
    }
   ],
   "source": [
    "x = (\"apple\", \"banana\", \"cherry\")\n",
    "y = list(x)\n",
    "y[1] = \"kiwi\"\n",
    "x = tuple(y)\n",
    "print(x)"
   ]
  },
  {
   "cell_type": "markdown",
   "id": "7a75ecb0",
   "metadata": {},
   "source": [
    "### But.. can add tuple to a tuple"
   ]
  },
  {
   "cell_type": "code",
   "execution_count": 5,
   "id": "135ff6b9",
   "metadata": {},
   "outputs": [
    {
     "name": "stdout",
     "output_type": "stream",
     "text": [
      "('banana', 'cherry')\n"
     ]
    }
   ],
   "source": [
    "#To Remove\n",
    "thistuple = (\"apple\", \"banana\", \"cherry\") # Also called packing a couple\n",
    "y = list(thistuple)\n",
    "y.remove(\"apple\")\n",
    "thistuple = tuple(y)\n",
    "print(thistuple)"
   ]
  },
  {
   "cell_type": "code",
   "execution_count": 6,
   "id": "a77bbf2c",
   "metadata": {},
   "outputs": [],
   "source": [
    "del thistuple"
   ]
  },
  {
   "cell_type": "code",
   "execution_count": 7,
   "id": "dd4a490a",
   "metadata": {},
   "outputs": [
    {
     "ename": "NameError",
     "evalue": "name 'thistuple' is not defined",
     "output_type": "error",
     "traceback": [
      "\u001b[1;31m---------------------------------------------------------------------------\u001b[0m",
      "\u001b[1;31mNameError\u001b[0m                                 Traceback (most recent call last)",
      "Input \u001b[1;32mIn [7]\u001b[0m, in \u001b[0;36m<module>\u001b[1;34m\u001b[0m\n\u001b[1;32m----> 1\u001b[0m \u001b[43mthistuple\u001b[49m\n",
      "\u001b[1;31mNameError\u001b[0m: name 'thistuple' is not defined"
     ]
    }
   ],
   "source": [
    "thistuple"
   ]
  },
  {
   "cell_type": "code",
   "execution_count": 8,
   "id": "b876a617",
   "metadata": {},
   "outputs": [
    {
     "name": "stdout",
     "output_type": "stream",
     "text": [
      "8\n"
     ]
    }
   ],
   "source": [
    "# UNPACKING A TUPLE\n",
    "tup2 = (8,'aju',None)\n",
    "(jack,king,queen) = tup2\n",
    "print(jack)"
   ]
  },
  {
   "cell_type": "code",
   "execution_count": 9,
   "id": "99ab6376",
   "metadata": {},
   "outputs": [
    {
     "name": "stdout",
     "output_type": "stream",
     "text": [
      "8\n",
      "['aju', None]\n"
     ]
    }
   ],
   "source": [
    "(helen,*joe)=tup2\n",
    "print(helen)\n",
    "print(joe)"
   ]
  },
  {
   "cell_type": "markdown",
   "id": "94533ece",
   "metadata": {},
   "source": [
    "## Joining 2 tuples"
   ]
  },
  {
   "cell_type": "code",
   "execution_count": 10,
   "id": "e3ef32fb",
   "metadata": {},
   "outputs": [
    {
     "name": "stdout",
     "output_type": "stream",
     "text": [
      "('sneha', 6, 9.0, True, 8, 'aju', None)\n",
      "('sneha', 6, 9.0, True, 'sneha', 6, 9.0, True)\n"
     ]
    }
   ],
   "source": [
    "print(tup1+tup2)\n",
    "print(tup1*2)"
   ]
  },
  {
   "cell_type": "markdown",
   "id": "5ccf7892",
   "metadata": {},
   "source": [
    "## Built-in Python Methods"
   ]
  },
  {
   "cell_type": "code",
   "execution_count": 11,
   "id": "1586e28c",
   "metadata": {},
   "outputs": [
    {
     "name": "stdout",
     "output_type": "stream",
     "text": [
      "1\n"
     ]
    }
   ],
   "source": [
    "print(tup1.count(9.0))"
   ]
  },
  {
   "cell_type": "code",
   "execution_count": 12,
   "id": "d8bdf977",
   "metadata": {},
   "outputs": [
    {
     "name": "stdout",
     "output_type": "stream",
     "text": [
      "2\n"
     ]
    }
   ],
   "source": [
    "print(tup1.index(9.0))"
   ]
  },
  {
   "cell_type": "markdown",
   "id": "0d7508ba",
   "metadata": {},
   "source": [
    "# Python Sets"
   ]
  },
  {
   "cell_type": "markdown",
   "id": "b99ff134",
   "metadata": {},
   "source": [
    "## A collection which is unordered, unchangeable & unindexed\n",
    "### Unchangeable, but can remove & add new items.\n",
    "#### ( curly brackets )"
   ]
  },
  {
   "cell_type": "code",
   "execution_count": 13,
   "id": "9f6c8abf",
   "metadata": {},
   "outputs": [
    {
     "name": "stdout",
     "output_type": "stream",
     "text": [
      "4\n"
     ]
    },
    {
     "data": {
      "text/plain": [
       "{True, 'arasu', 'neha', 'raj'}"
      ]
     },
     "execution_count": 13,
     "metadata": {},
     "output_type": "execute_result"
    }
   ],
   "source": [
    "set1 = {'neha','raj','arasu','raj',True,1}\n",
    "print(len(set1))\n",
    "set(set1)"
   ]
  },
  {
   "cell_type": "markdown",
   "id": "ca3a9f52",
   "metadata": {},
   "source": [
    "### Set Constructor"
   ]
  },
  {
   "cell_type": "code",
   "execution_count": 14,
   "id": "ed0ffa2d",
   "metadata": {},
   "outputs": [
    {
     "name": "stdout",
     "output_type": "stream",
     "text": [
      "{False, 9, 'veda'}\n"
     ]
    }
   ],
   "source": [
    "set2 = set(('veda',9,False,9.0))\n",
    "print(set2)"
   ]
  },
  {
   "cell_type": "markdown",
   "id": "0bef4a5d",
   "metadata": {},
   "source": [
    "## Set items are unchangeable, but can remove items & add new items."
   ]
  },
  {
   "cell_type": "markdown",
   "id": "86bfcb08",
   "metadata": {},
   "source": [
    "#### Cannot change items in set\n",
    "#### but can add items "
   ]
  },
  {
   "cell_type": "code",
   "execution_count": 15,
   "id": "b053ea0b",
   "metadata": {},
   "outputs": [
    {
     "data": {
      "text/plain": [
       "{7, 9, False, 'veda'}"
      ]
     },
     "execution_count": 15,
     "metadata": {},
     "output_type": "execute_result"
    }
   ],
   "source": [
    "set2.add(7)\n",
    "set2"
   ]
  },
  {
   "cell_type": "code",
   "execution_count": 16,
   "id": "7353bb98",
   "metadata": {},
   "outputs": [
    {
     "name": "stdout",
     "output_type": "stream",
     "text": [
      "{False, True, 'arasu', 7, 9, 'raj', 'veda', 'neha'}\n"
     ]
    }
   ],
   "source": [
    "set1.update(set2)\n",
    "print(set1)"
   ]
  },
  {
   "cell_type": "code",
   "execution_count": 17,
   "id": "6383cf16",
   "metadata": {},
   "outputs": [
    {
     "name": "stdout",
     "output_type": "stream",
     "text": [
      "{False, 7, 8, 9, 'veda', 'aju', None}\n"
     ]
    }
   ],
   "source": [
    "set2.update(tup2)\n",
    "print(set2)"
   ]
  },
  {
   "cell_type": "markdown",
   "id": "c1d38f21",
   "metadata": {},
   "source": [
    "### To remove ==>>  use the remove() or discard() method"
   ]
  },
  {
   "cell_type": "code",
   "execution_count": 18,
   "id": "28270536",
   "metadata": {},
   "outputs": [
    {
     "data": {
      "text/plain": [
       "{7, 9, True, 'arasu', 'neha', 'raj', 'veda'}"
      ]
     },
     "execution_count": 18,
     "metadata": {},
     "output_type": "execute_result"
    }
   ],
   "source": [
    "set1.remove(False)\n",
    "set1"
   ]
  },
  {
   "cell_type": "code",
   "execution_count": 19,
   "id": "fc01bdfd",
   "metadata": {},
   "outputs": [
    {
     "data": {
      "text/plain": [
       "{7, 8, 9, False, None, 'veda'}"
      ]
     },
     "execution_count": 19,
     "metadata": {},
     "output_type": "execute_result"
    }
   ],
   "source": [
    "set2.discard('aju')\n",
    "set2"
   ]
  },
  {
   "cell_type": "code",
   "execution_count": 20,
   "id": "1f05c4c0",
   "metadata": {},
   "outputs": [
    {
     "name": "stdout",
     "output_type": "stream",
     "text": [
      "False\n",
      "{7, 8, 9, 'veda', None}\n"
     ]
    }
   ],
   "source": [
    "# To remove a random item\n",
    "print(set2.pop())\n",
    "print(set2)"
   ]
  },
  {
   "cell_type": "code",
   "execution_count": 21,
   "id": "fba28fae",
   "metadata": {},
   "outputs": [
    {
     "name": "stdout",
     "output_type": "stream",
     "text": [
      "None\n",
      "set()\n"
     ]
    }
   ],
   "source": [
    "# clear method empties set\n",
    "print(set1.clear())\n",
    "print(set1)"
   ]
  },
  {
   "cell_type": "code",
   "execution_count": 22,
   "id": "33129268",
   "metadata": {},
   "outputs": [
    {
     "name": "stdout",
     "output_type": "stream",
     "text": [
      "{7, 8, 9, 'veda', None}\n"
     ]
    },
    {
     "ename": "NameError",
     "evalue": "name 'set2' is not defined",
     "output_type": "error",
     "traceback": [
      "\u001b[1;31m---------------------------------------------------------------------------\u001b[0m",
      "\u001b[1;31mNameError\u001b[0m                                 Traceback (most recent call last)",
      "Input \u001b[1;32mIn [22]\u001b[0m, in \u001b[0;36m<module>\u001b[1;34m\u001b[0m\n\u001b[0;32m      2\u001b[0m \u001b[38;5;28mprint\u001b[39m(set2)\n\u001b[0;32m      3\u001b[0m \u001b[38;5;28;01mdel\u001b[39;00m set2\n\u001b[1;32m----> 4\u001b[0m \u001b[38;5;28mprint\u001b[39m(\u001b[43mset2\u001b[49m)\n",
      "\u001b[1;31mNameError\u001b[0m: name 'set2' is not defined"
     ]
    }
   ],
   "source": [
    "# del kw also empties\n",
    "print(set2)\n",
    "del set2\n",
    "print(set2)"
   ]
  },
  {
   "cell_type": "code",
   "execution_count": 23,
   "id": "10e39900",
   "metadata": {},
   "outputs": [
    {
     "name": "stdout",
     "output_type": "stream",
     "text": [
      "{0.0, 9, 'lol'}\n"
     ]
    }
   ],
   "source": [
    "# To join Sets\n",
    "set2 = {9,0.0,\"lol\"}\n",
    "set3 = set1.union(set2)\n",
    "print(set3)"
   ]
  },
  {
   "cell_type": "markdown",
   "id": "c53c0aef",
   "metadata": {},
   "source": [
    "#### Both union() and update() will exclude any duplicate items."
   ]
  },
  {
   "cell_type": "code",
   "execution_count": 24,
   "id": "56932065",
   "metadata": {},
   "outputs": [
    {
     "name": "stdout",
     "output_type": "stream",
     "text": [
      "{0.0, 9, 'lol'}\n"
     ]
    }
   ],
   "source": [
    "set2.intersection_update(set3)\n",
    "print(set2)"
   ]
  },
  {
   "cell_type": "code",
   "execution_count": 25,
   "id": "0157b2f2",
   "metadata": {},
   "outputs": [
    {
     "data": {
      "text/plain": [
       "{0.0, 4, 9, 'lol'}"
      ]
     },
     "execution_count": 25,
     "metadata": {},
     "output_type": "execute_result"
    }
   ],
   "source": [
    "set2.add(4)\n",
    "set2"
   ]
  },
  {
   "cell_type": "code",
   "execution_count": 26,
   "id": "d1834ea8",
   "metadata": {},
   "outputs": [
    {
     "name": "stdout",
     "output_type": "stream",
     "text": [
      "{0.0, 9, 'lol'}\n"
     ]
    }
   ],
   "source": [
    "print(set2.intersection(set3))"
   ]
  },
  {
   "cell_type": "code",
   "execution_count": 27,
   "id": "4d1e5762",
   "metadata": {},
   "outputs": [
    {
     "name": "stdout",
     "output_type": "stream",
     "text": [
      "None\n"
     ]
    }
   ],
   "source": [
    "print(set2.symmetric_difference_update(set3))"
   ]
  },
  {
   "cell_type": "code",
   "execution_count": 28,
   "id": "1b7fbfde",
   "metadata": {},
   "outputs": [
    {
     "name": "stdout",
     "output_type": "stream",
     "text": [
      "{4}\n",
      "{0.0, 9, 'lol'}\n",
      "{0.0, 9, 4, 'lol'}\n"
     ]
    }
   ],
   "source": [
    "print(set2)\n",
    "print(set3)\n",
    "print(set2.symmetric_difference(set3))"
   ]
  },
  {
   "cell_type": "code",
   "execution_count": 29,
   "id": "dd290699",
   "metadata": {},
   "outputs": [
    {
     "name": "stdout",
     "output_type": "stream",
     "text": [
      "__and__ __class__ __class_getitem__ __contains__ __delattr__ __dir__ __doc__ __eq__ __format__ __ge__ __getattribute__ __gt__ __hash__ __iand__ __init__ __init_subclass__ __ior__ __isub__ __iter__ __ixor__ __le__ __len__ __lt__ __ne__ __new__ __or__ __rand__ __reduce__ __reduce_ex__ __repr__ __ror__ __rsub__ __rxor__ __setattr__ __sizeof__ __str__ __sub__ __subclasshook__ __xor__ add clear copy difference difference_update discard intersection intersection_update isdisjoint issubset issuperset pop remove symmetric_difference symmetric_difference_update union update\n"
     ]
    }
   ],
   "source": [
    "print(*dir(set),sep=\" \")"
   ]
  },
  {
   "cell_type": "markdown",
   "id": "976b7011",
   "metadata": {},
   "source": [
    "# Python Dictionary"
   ]
  },
  {
   "cell_type": "markdown",
   "id": "d36f1135",
   "metadata": {},
   "source": [
    "### store data values in key:value pairs\n",
    "#### ordered , changeable & do not allow duplicates ( enclosed in curly braces with key-value pairs )"
   ]
  },
  {
   "cell_type": "code",
   "execution_count": 30,
   "id": "99a20962",
   "metadata": {},
   "outputs": [
    {
     "data": {
      "text/plain": [
       "{'name': 'george', 'age': 9, 'gender': 'Female'}"
      ]
     },
     "execution_count": 30,
     "metadata": {},
     "output_type": "execute_result"
    }
   ],
   "source": [
    "dic1 = {'name':'george',\"age\":9,'gender':'Female'}\n",
    "dic1"
   ]
  },
  {
   "cell_type": "code",
   "execution_count": 31,
   "id": "bbfc3b39",
   "metadata": {},
   "outputs": [
    {
     "name": "stdout",
     "output_type": "stream",
     "text": [
      "george\n"
     ]
    }
   ],
   "source": [
    "print(dic1['name'])"
   ]
  },
  {
   "cell_type": "code",
   "execution_count": 32,
   "id": "d913f806",
   "metadata": {},
   "outputs": [],
   "source": [
    "# Dict will overwrite existing values\n",
    "dic2 = {'name':'geo',\"name\":'paul','age':90}"
   ]
  },
  {
   "cell_type": "code",
   "execution_count": 33,
   "id": "855c4fed",
   "metadata": {},
   "outputs": [
    {
     "data": {
      "text/plain": [
       "{'name': 'paul', 'age': 90}"
      ]
     },
     "execution_count": 33,
     "metadata": {},
     "output_type": "execute_result"
    }
   ],
   "source": [
    "dic2"
   ]
  },
  {
   "cell_type": "code",
   "execution_count": 34,
   "id": "ea4a624b",
   "metadata": {},
   "outputs": [
    {
     "name": "stdout",
     "output_type": "stream",
     "text": [
      "{'name': 'jio', 'marks': [9, 8, 7, 0]}\n"
     ]
    }
   ],
   "source": [
    "dic3 = {'name':'jio','marks':[9,8,7,0]}\n",
    "print(dic3)"
   ]
  },
  {
   "cell_type": "code",
   "execution_count": 35,
   "id": "b8896946",
   "metadata": {},
   "outputs": [
    {
     "name": "stdout",
     "output_type": "stream",
     "text": [
      "name age country\n"
     ]
    }
   ],
   "source": [
    "t = dict(name = \"John\", age = 36, country = \"Norway\")\n",
    "print(*t)"
   ]
  },
  {
   "cell_type": "code",
   "execution_count": 36,
   "id": "b9db44f3",
   "metadata": {},
   "outputs": [
    {
     "name": "stdout",
     "output_type": "stream",
     "text": [
      "Norway\n"
     ]
    }
   ],
   "source": [
    "print(t.get(\"country\"))"
   ]
  },
  {
   "cell_type": "code",
   "execution_count": 37,
   "id": "019b0ec7",
   "metadata": {},
   "outputs": [
    {
     "name": "stdout",
     "output_type": "stream",
     "text": [
      "dict_keys(['name', 'age', 'country'])\n"
     ]
    }
   ],
   "source": [
    "print(t.keys())"
   ]
  },
  {
   "cell_type": "code",
   "execution_count": 38,
   "id": "dff60ad4",
   "metadata": {},
   "outputs": [
    {
     "name": "stdout",
     "output_type": "stream",
     "text": [
      "dict_values(['John', 36, 'Norway'])\n"
     ]
    }
   ],
   "source": [
    "print(t.values())"
   ]
  },
  {
   "cell_type": "code",
   "execution_count": 39,
   "id": "1f99f544",
   "metadata": {},
   "outputs": [
    {
     "data": {
      "text/plain": [
       "{'name': 'John', 'age': 99, 'country': 'Norway'}"
      ]
     },
     "execution_count": 39,
     "metadata": {},
     "output_type": "execute_result"
    }
   ],
   "source": [
    "t['age'] = 99\n",
    "t"
   ]
  },
  {
   "cell_type": "code",
   "execution_count": 40,
   "id": "4f9e3d4b",
   "metadata": {},
   "outputs": [
    {
     "data": {
      "text/plain": [
       "dict_items([('name', 'John'), ('age', 99), ('country', 'Norway')])"
      ]
     },
     "execution_count": 40,
     "metadata": {},
     "output_type": "execute_result"
    }
   ],
   "source": [
    "t.items()"
   ]
  },
  {
   "cell_type": "code",
   "execution_count": 41,
   "id": "82e0183f",
   "metadata": {},
   "outputs": [
    {
     "data": {
      "text/plain": [
       "{'name': 'John', 'age': 99, 'country': 'Norway', 'gender': 'M'}"
      ]
     },
     "execution_count": 41,
     "metadata": {},
     "output_type": "execute_result"
    }
   ],
   "source": [
    "t['gender']=\"M\"\n",
    "t"
   ]
  },
  {
   "cell_type": "code",
   "execution_count": 42,
   "id": "387fabd7",
   "metadata": {},
   "outputs": [
    {
     "name": "stdout",
     "output_type": "stream",
     "text": [
      "Yep\n"
     ]
    }
   ],
   "source": [
    "if 'name' in t:\n",
    "    print(\"Yep\")"
   ]
  },
  {
   "cell_type": "code",
   "execution_count": 43,
   "id": "2f0fd25e",
   "metadata": {},
   "outputs": [
    {
     "data": {
      "text/plain": [
       "{'name': 'Matthews', 'age': 99, 'country': 'Norway', 'gender': 'M'}"
      ]
     },
     "execution_count": 43,
     "metadata": {},
     "output_type": "execute_result"
    }
   ],
   "source": [
    "# To change items\n",
    "t.update({'name':'Matthews'})\n",
    "t"
   ]
  },
  {
   "cell_type": "code",
   "execution_count": 44,
   "id": "8e8fa56d",
   "metadata": {},
   "outputs": [
    {
     "data": {
      "text/plain": [
       "{'age': 9, 'gender': 'Female'}"
      ]
     },
     "execution_count": 44,
     "metadata": {},
     "output_type": "execute_result"
    }
   ],
   "source": [
    "dic1.pop(\"name\")\n",
    "dic1"
   ]
  },
  {
   "cell_type": "code",
   "execution_count": 45,
   "id": "823d706e",
   "metadata": {},
   "outputs": [
    {
     "data": {
      "text/plain": [
       "{'age': 9}"
      ]
     },
     "execution_count": 45,
     "metadata": {},
     "output_type": "execute_result"
    }
   ],
   "source": [
    "dic1.popitem()\n",
    "dic1"
   ]
  },
  {
   "cell_type": "code",
   "execution_count": 46,
   "id": "d853de2e",
   "metadata": {},
   "outputs": [
    {
     "data": {
      "text/plain": [
       "{'age': 90}"
      ]
     },
     "execution_count": 46,
     "metadata": {},
     "output_type": "execute_result"
    }
   ],
   "source": [
    "del dic2['name']\n",
    "dic2"
   ]
  },
  {
   "cell_type": "code",
   "execution_count": 47,
   "id": "d00a0bb8",
   "metadata": {},
   "outputs": [
    {
     "data": {
      "text/plain": [
       "{}"
      ]
     },
     "execution_count": 47,
     "metadata": {},
     "output_type": "execute_result"
    }
   ],
   "source": [
    "dic1.clear()\n",
    "dic1"
   ]
  },
  {
   "cell_type": "code",
   "execution_count": 48,
   "id": "2cd3fbe9",
   "metadata": {},
   "outputs": [
    {
     "name": "stdout",
     "output_type": "stream",
     "text": [
      "Ford\n",
      "Mustang\n",
      "1964\n"
     ]
    }
   ],
   "source": [
    "thisdict =\t{\n",
    "  \"brand\": \"Ford\",\n",
    "  \"model\": \"Mustang\",\n",
    "  \"year\": 1964\n",
    "}\n",
    "for x in thisdict.values():\n",
    "  print(x)\n"
   ]
  },
  {
   "cell_type": "code",
   "execution_count": 49,
   "id": "54470ce0",
   "metadata": {},
   "outputs": [
    {
     "name": "stdout",
     "output_type": "stream",
     "text": [
      "brand\n",
      "model\n",
      "year\n"
     ]
    }
   ],
   "source": [
    "for t in thisdict.keys():\n",
    "    print(t)"
   ]
  },
  {
   "cell_type": "code",
   "execution_count": 50,
   "id": "0dbb8398",
   "metadata": {},
   "outputs": [
    {
     "name": "stdout",
     "output_type": "stream",
     "text": [
      "brand --> Ford\n",
      "model --> Mustang\n",
      "year --> 1964\n"
     ]
    }
   ],
   "source": [
    "for k,v in thisdict.items():\n",
    "    print(k,v,sep=\" --> \")"
   ]
  },
  {
   "cell_type": "code",
   "execution_count": 51,
   "id": "79679f87",
   "metadata": {},
   "outputs": [
    {
     "data": {
      "text/plain": [
       "{'brand': 'Ford', 'model': 'Mustang', 'year': 1964}"
      ]
     },
     "execution_count": 51,
     "metadata": {},
     "output_type": "execute_result"
    }
   ],
   "source": [
    "h = thisdict.copy()\n",
    "h"
   ]
  },
  {
   "cell_type": "markdown",
   "id": "559e1a9a",
   "metadata": {},
   "source": [
    "#### Nested Dictionaries"
   ]
  },
  {
   "cell_type": "code",
   "execution_count": 52,
   "id": "7f355d6c",
   "metadata": {},
   "outputs": [
    {
     "data": {
      "text/plain": [
       "{'child1': {'name': 'Emil', 'year': 2004},\n",
       " 'child2': {'name': 'Tobias', 'year': 2007},\n",
       " 'child3': {'name': 'Linus', 'year': 2011}}"
      ]
     },
     "execution_count": 52,
     "metadata": {},
     "output_type": "execute_result"
    }
   ],
   "source": [
    "myfamily = {\n",
    "  \"child1\" : {\n",
    "    \"name\" : \"Emil\",\n",
    "    \"year\" : 2004\n",
    "  },\n",
    "  \"child2\" : {\n",
    "    \"name\" : \"Tobias\",\n",
    "    \"year\" : 2007\n",
    "  },\n",
    "  \"child3\" : {\n",
    "    \"name\" : \"Linus\",\n",
    "    \"year\" : 2011\n",
    "  }\n",
    "}\n",
    "myfamily"
   ]
  },
  {
   "cell_type": "code",
   "execution_count": 53,
   "id": "9e141d2f",
   "metadata": {},
   "outputs": [
    {
     "data": {
      "text/plain": [
       "{'child1': {'name': 'Emil', 'year': 2004},\n",
       " 'child2': {'name': 'Tobias', 'year': 2007},\n",
       " 'child3': {'name': 'Linus', 'year': 2011}}"
      ]
     },
     "execution_count": 53,
     "metadata": {},
     "output_type": "execute_result"
    }
   ],
   "source": [
    "c1 = {\"name\" : \"Emil\",\"year\" : 2004}\n",
    "c2 = {\"name\" : \"Tobias\",\"year\" : 2007}\n",
    "c3 = {\"name\" : \"Linus\",\"year\" : 2011}\n",
    "\n",
    "myfamily = {\n",
    "  \"child1\" : c1,\n",
    "  \"child2\" : c2,\n",
    "  \"child3\" : c3\n",
    "}\n",
    "myfamily"
   ]
  },
  {
   "cell_type": "code",
   "execution_count": 54,
   "id": "aba3505e",
   "metadata": {},
   "outputs": [
    {
     "data": {
      "text/plain": [
       "2011"
      ]
     },
     "execution_count": 54,
     "metadata": {},
     "output_type": "execute_result"
    }
   ],
   "source": [
    "myfamily['child3']['year']"
   ]
  },
  {
   "cell_type": "code",
   "execution_count": 55,
   "id": "1bb4cf94",
   "metadata": {},
   "outputs": [
    {
     "data": {
      "text/plain": [
       "['__class__',\n",
       " '__class_getitem__',\n",
       " '__contains__',\n",
       " '__delattr__',\n",
       " '__delitem__',\n",
       " '__dir__',\n",
       " '__doc__',\n",
       " '__eq__',\n",
       " '__format__',\n",
       " '__ge__',\n",
       " '__getattribute__',\n",
       " '__getitem__',\n",
       " '__gt__',\n",
       " '__hash__',\n",
       " '__init__',\n",
       " '__init_subclass__',\n",
       " '__ior__',\n",
       " '__iter__',\n",
       " '__le__',\n",
       " '__len__',\n",
       " '__lt__',\n",
       " '__ne__',\n",
       " '__new__',\n",
       " '__or__',\n",
       " '__reduce__',\n",
       " '__reduce_ex__',\n",
       " '__repr__',\n",
       " '__reversed__',\n",
       " '__ror__',\n",
       " '__setattr__',\n",
       " '__setitem__',\n",
       " '__sizeof__',\n",
       " '__str__',\n",
       " '__subclasshook__',\n",
       " 'clear',\n",
       " 'copy',\n",
       " 'fromkeys',\n",
       " 'get',\n",
       " 'items',\n",
       " 'keys',\n",
       " 'pop',\n",
       " 'popitem',\n",
       " 'setdefault',\n",
       " 'update',\n",
       " 'values']"
      ]
     },
     "execution_count": 55,
     "metadata": {},
     "output_type": "execute_result"
    }
   ],
   "source": [
    "dir(dict())"
   ]
  }
 ],
 "metadata": {
  "kernelspec": {
   "display_name": "Python 3 (ipykernel)",
   "language": "python",
   "name": "python3"
  },
  "language_info": {
   "codemirror_mode": {
    "name": "ipython",
    "version": 3
   },
   "file_extension": ".py",
   "mimetype": "text/x-python",
   "name": "python",
   "nbconvert_exporter": "python",
   "pygments_lexer": "ipython3",
   "version": "3.10.2"
  }
 },
 "nbformat": 4,
 "nbformat_minor": 5
}

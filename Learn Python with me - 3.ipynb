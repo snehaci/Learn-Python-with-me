{
 "cells": [
  {
   "cell_type": "code",
   "execution_count": 1,
   "id": "417c53f3",
   "metadata": {},
   "outputs": [
    {
     "name": "stdout",
     "output_type": "stream",
     "text": [
      ">>>Cute :3 isn't it ** ?\n",
      "Cute 😚 isn't it 😃 ? \n"
     ]
    }
   ],
   "source": [
    "#Emoji convertor\n",
    "msg = input(\">>>\")\n",
    "words = msg.split(\" \")\n",
    "emojis={\n",
    "    \":)\":\"😊\",\n",
    "    \":(\":\"😌\",\n",
    "    \";)\":\"😉\",\n",
    "    \":o\":\"😮\",\n",
    "    \":3\":\"😚\",\n",
    "    \"**\":\"😃\"\n",
    "}\n",
    "output = ''\n",
    "for w in words:\n",
    "    output += emojis.get(w,w)+\" \"\n",
    "print(output)"
   ]
  },
  {
   "cell_type": "code",
   "execution_count": 2,
   "id": "6c38c14f",
   "metadata": {},
   "outputs": [
    {
     "name": "stdout",
     "output_type": "stream",
     "text": [
      "Your good name? Sanya\n",
      "Welcome Sanya ! 🙏\n",
      "To quit --> type 'exit'\n",
      "Your good name? exit\n"
     ]
    }
   ],
   "source": [
    "#Functions --> Reusable lines of code\n",
    "def Greet(name):#name is the Parmeter\n",
    "    \n",
    "        print(f\"Welcome {name} ! 🙏\")\n",
    "        print(\"To quit --> type 'exit'\")\n",
    "    \n",
    "while(True):\n",
    "    name = input(\"Your good name? \")\n",
    "    if name ==\"exit\":\n",
    "        break \n",
    "    else:\n",
    "        Greet(name)# Positional Argument"
   ]
  },
  {
   "cell_type": "code",
   "execution_count": 7,
   "id": "2edf0ad5",
   "metadata": {},
   "outputs": [
    {
     "name": "stdout",
     "output_type": "stream",
     "text": [
      "Welcome Sanya Abhimanu to the company!\n"
     ]
    }
   ],
   "source": [
    "def Greetings(last_name,fir_name):\n",
    "    print(f\"Welcome {fir_name} {last_name} to the company!\")\n",
    "    \n",
    "    \n",
    "Greetings(fir_name=\"Sanya\",last_name=\"Abhimanu\") #keyword arguments -->Improves readability"
   ]
  },
  {
   "cell_type": "code",
   "execution_count": 12,
   "id": "f1447dc9",
   "metadata": {},
   "outputs": [
    {
     "name": "stdout",
     "output_type": "stream",
     "text": [
      "3\n"
     ]
    }
   ],
   "source": [
    "def add(a):\n",
    "    return a+0\n",
    "\n",
    "print(add(3))"
   ]
  },
  {
   "cell_type": "code",
   "execution_count": 8,
   "id": "3c8c0b82",
   "metadata": {},
   "outputs": [
    {
     "name": "stdout",
     "output_type": "stream",
     "text": [
      ">>>hey hey ;)\n",
      "hey hey 😉 \n"
     ]
    }
   ],
   "source": [
    "def emoji_convertor(msg):\n",
    "    emojis={\n",
    "    \":)\":\"😊\",\n",
    "    \":(\":\"😌\",\n",
    "    \";)\":\"😉\",\n",
    "    \":o\":\"😮\",\n",
    "    \":3\":\"😚\",\n",
    "    \"**\":\"😃\"\n",
    "    }\n",
    "    words = msg.split(\" \")\n",
    "    output = ''\n",
    "    for w in words:\n",
    "        output += emojis.get(w,w)+\" \"\n",
    "    print(output)\n",
    "\n",
    "    \n",
    "msg = input(\">>>\")\n",
    "emoji_convertor(msg)"
   ]
  },
  {
   "cell_type": "code",
   "execution_count": 16,
   "id": "24819f30",
   "metadata": {},
   "outputs": [
    {
     "name": "stdout",
     "output_type": "stream",
     "text": [
      "Your age? 0\n",
      "Your age cannot be zero?!\n"
     ]
    }
   ],
   "source": [
    "#Exception\n",
    "try:\n",
    "    age = int(input(\"Your age? \"))\n",
    "    risk = 25000/age\n",
    "    print(\"You are at risk this month!\")\n",
    "except ValueError:\n",
    "    print(\"Invalid input 🙄\")\n",
    "except ZeroDivisionError:\n",
    "    print(\"Your age cannot be zero?!\")"
   ]
  },
  {
   "cell_type": "code",
   "execution_count": 6,
   "id": "b96a397f",
   "metadata": {},
   "outputs": [
    {
     "name": "stdout",
     "output_type": "stream",
     "text": [
      "draw\n",
      "Move\n",
      "10\n"
     ]
    }
   ],
   "source": [
    "#Classes\n",
    "#Capitalize class name\n",
    "class Point:\n",
    "    def move(self):\n",
    "        print(\"Move\")\n",
    "    def draw(self):\n",
    "        print(\"draw\")\n",
    "        \n",
    "        \n",
    "point1 = Point()\n",
    "#point1 --> object\n",
    "point1.draw()\n",
    "point1.move()\n",
    "point1.x = 10\n",
    "point1.y = 20\n",
    "print(point1.x)"
   ]
  },
  {
   "cell_type": "code",
   "execution_count": 1,
   "id": "92a0e4d5",
   "metadata": {},
   "outputs": [
    {
     "name": "stdout",
     "output_type": "stream",
     "text": [
      "13\n",
      "20\n"
     ]
    }
   ],
   "source": [
    "#Constructor\n",
    "class Point:\n",
    "    def __init__(self,x,y): #constructor\n",
    "        self.x = x\n",
    "        self.y = y\n",
    "    def move(self):\n",
    "        print(\"Move\")\n",
    "    def draw(self):\n",
    "        print(\"draw\")\n",
    "\n",
    "        \n",
    "point = Point(10,20)\n",
    "point.x = 13\n",
    "print(point.x)\n",
    "print(point.y)"
   ]
  },
  {
   "cell_type": "code",
   "execution_count": 11,
   "id": "2a2ed8c6",
   "metadata": {},
   "outputs": [
    {
     "name": "stdout",
     "output_type": "stream",
     "text": [
      "Hello you, I'm John smith\n",
      "Hello you, I'm Boby smith\n"
     ]
    }
   ],
   "source": [
    "class Person:\n",
    "    def __init__(self,name):\n",
    "        self.name=name\n",
    "    def talk(self):\n",
    "        print(f\"Hello you, I'm {self.name}\")\n",
    "\n",
    "\n",
    "john = Person(\"John smith\")\n",
    "john.talk()\n",
    "\n",
    "bob = Person(\"Boby smith\")\n",
    "bob.talk()"
   ]
  },
  {
   "cell_type": "code",
   "execution_count": 3,
   "id": "cdaa6fb4",
   "metadata": {},
   "outputs": [
    {
     "name": "stdout",
     "output_type": "stream",
     "text": [
      "Walk\n"
     ]
    }
   ],
   "source": [
    "#inheritance\n",
    "class Mammal:\n",
    "    def walk(self):\n",
    "        print(\"Walk\")\n",
    "\n",
    "\n",
    "class Dog(Mammal): #Dog is inheriting Mammal class \n",
    "    pass\n",
    "class Cat(Mammal): #Cat is inheriting Mammal class \n",
    "    pass\n",
    "\n",
    "cat_1 = Cat()\n",
    "cat_1.walk()"
   ]
  },
  {
   "cell_type": "code",
   "execution_count": 6,
   "id": "d6f53896",
   "metadata": {},
   "outputs": [
    {
     "name": "stdout",
     "output_type": "stream",
     "text": [
      "{0, 1, 64, 4, 36, 9, 16, 49, 81, 25}\n",
      "False\n",
      "True\n",
      "<class 'set'>\n"
     ]
    }
   ],
   "source": [
    "#set --> (unordered and unindexed collection of elements)\n",
    "#operations like union, intersection, difference, etc...\n",
    "S = {x**2 for x in range(10)}\n",
    "print(S)\n",
    "\n",
    "print(all(x>0 for x in S))\n",
    "print(any(x>0 for x in S))\n",
    "print(type(S))\n"
   ]
  },
  {
   "cell_type": "code",
   "execution_count": null,
   "id": "f6e02f3f",
   "metadata": {},
   "outputs": [],
   "source": []
  }
 ],
 "metadata": {
  "kernelspec": {
   "display_name": "Python 3 (ipykernel)",
   "language": "python",
   "name": "python3"
  },
  "language_info": {
   "codemirror_mode": {
    "name": "ipython",
    "version": 3
   },
   "file_extension": ".py",
   "mimetype": "text/x-python",
   "name": "python",
   "nbconvert_exporter": "python",
   "pygments_lexer": "ipython3",
   "version": "3.10.2"
  }
 },
 "nbformat": 4,
 "nbformat_minor": 5
}

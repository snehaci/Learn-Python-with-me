{
 "cells": [
  {
   "cell_type": "markdown",
   "id": "0ec939a9",
   "metadata": {},
   "source": [
    "# Replace a substring"
   ]
  },
  {
   "cell_type": "code",
   "execution_count": 2,
   "id": "24c15dac",
   "metadata": {},
   "outputs": [
    {
     "name": "stdout",
     "output_type": "stream",
     "text": [
      "apple fruit\n",
      "fruit\n",
      "tree\n",
      "apple tree\n"
     ]
    }
   ],
   "source": [
    "s = input()\n",
    "s1 = input()\n",
    "s2 = input()\n",
    "print(s.replace(s1,s2))"
   ]
  },
  {
   "cell_type": "code",
   "execution_count": 3,
   "id": "0ac98363",
   "metadata": {},
   "outputs": [
    {
     "name": "stdout",
     "output_type": "stream",
     "text": [
      "applefruit\n",
      "applefruit\n",
      "apple fruit\n"
     ]
    }
   ],
   "source": [
    "# Removing spaces\n",
    "\n",
    "print(s.replace(\" \",\"\"))\n",
    "print(\"\".join(s.split()))\n",
    "print(s,sep=\"\")"
   ]
  },
  {
   "cell_type": "markdown",
   "id": "1a61f914",
   "metadata": {},
   "source": [
    "# Sum of digits of a number"
   ]
  },
  {
   "cell_type": "code",
   "execution_count": 69,
   "id": "e7825e30",
   "metadata": {},
   "outputs": [
    {
     "name": "stdout",
     "output_type": "stream",
     "text": [
      "123\n",
      "6\n"
     ]
    }
   ],
   "source": [
    "n = input()\n",
    "s=0\n",
    "for i in n:\n",
    "    s =s+int(i)\n",
    "print(s)"
   ]
  },
  {
   "cell_type": "code",
   "execution_count": 68,
   "id": "a0533bdd",
   "metadata": {},
   "outputs": [
    {
     "name": "stdout",
     "output_type": "stream",
     "text": [
      "123\n",
      "6\n"
     ]
    }
   ],
   "source": [
    "n = int(input())\n",
    "rem,c = 0,0\n",
    "while(n>0):\n",
    "    rem = n%10\n",
    "    c +=rem\n",
    "    n = n//10\n",
    "print(c)"
   ]
  },
  {
   "cell_type": "code",
   "execution_count": 26,
   "id": "50a0882f",
   "metadata": {},
   "outputs": [
    {
     "name": "stdout",
     "output_type": "stream",
     "text": [
      "2 3\n",
      "8\n",
      "8\n"
     ]
    }
   ],
   "source": [
    "# to find power of a number\n",
    "n,p = map(int,input().split())\n",
    "print(pow(n,p))\n",
    "print(n**p)"
   ]
  },
  {
   "cell_type": "markdown",
   "id": "cad40a06",
   "metadata": {},
   "source": [
    "# To print largest ele in a array"
   ]
  },
  {
   "cell_type": "code",
   "execution_count": 33,
   "id": "e0f19688",
   "metadata": {},
   "outputs": [
    {
     "name": "stdout",
     "output_type": "stream",
     "text": [
      "s\n"
     ]
    }
   ],
   "source": [
    "a = ['r','i','s','h','']\n",
    "for i in range(len(a)):\n",
    "    for j in range(len(a)-i-1):\n",
    "        while(a[j]>a[j+1]):\n",
    "            a[j],a[j+1] = a[j+1],a[j]\n",
    "print(a[-1])"
   ]
  },
  {
   "cell_type": "markdown",
   "id": "7791cf2e",
   "metadata": {},
   "source": [
    "# Reversing array 'a'"
   ]
  },
  {
   "cell_type": "code",
   "execution_count": 35,
   "id": "d0faaee4",
   "metadata": {},
   "outputs": [
    {
     "name": "stdout",
     "output_type": "stream",
     "text": [
      "['s', 'r', 'i', 'h', '']\n"
     ]
    }
   ],
   "source": [
    "a = ['r','i','s','h','']\n",
    "for i in range(len(a)):\n",
    "    for j in range(len(a)-i-1):\n",
    "        while(a[j]<a[j+1]):\n",
    "            a[j],a[j+1] = a[j+1],a[j]\n",
    "print(a)"
   ]
  },
  {
   "cell_type": "markdown",
   "id": "aea350f8",
   "metadata": {},
   "source": [
    "# Removing Wild cards "
   ]
  },
  {
   "cell_type": "code",
   "execution_count": 65,
   "id": "dca84262",
   "metadata": {},
   "outputs": [
    {
     "name": "stdout",
     "output_type": "stream",
     "text": [
      "kite\n"
     ]
    }
   ],
   "source": [
    "s = \"k#%ite#\"\n",
    "r=''\n",
    "for i in s:\n",
    "    if i not in (\"#\",\"%\"):\n",
    "        r +=i\n",
    "print(r)"
   ]
  },
  {
   "cell_type": "code",
   "execution_count": 94,
   "id": "6c87c9e8",
   "metadata": {},
   "outputs": [
    {
     "name": "stdout",
     "output_type": "stream",
     "text": [
      "jk\n"
     ]
    }
   ],
   "source": [
    "s1 = \"jk@%$\"\n",
    "print(''.join(j for j in s1 if j not in ('#,\"%\",\"@\",''$')))"
   ]
  },
  {
   "cell_type": "markdown",
   "id": "858b1bab",
   "metadata": {},
   "source": [
    "# Convert digits to words"
   ]
  },
  {
   "cell_type": "code",
   "execution_count": 67,
   "id": "ba4ded6c",
   "metadata": {},
   "outputs": [
    {
     "name": "stdout",
     "output_type": "stream",
     "text": [
      "eleven thousand and ninety-eight\n",
      "eleven thousand and ninety-eighth\n"
     ]
    }
   ],
   "source": [
    "from num2words import num2words\n",
    "\n",
    "# Most common usage.\n",
    "print(num2words(11098))\n",
    "\n",
    "# can also specify this for -th format\n",
    "print(num2words(11098, to='ordinal'))"
   ]
  },
  {
   "cell_type": "markdown",
   "id": "5dc1c164",
   "metadata": {},
   "source": [
    "# To find the prime factors\n"
   ]
  },
  {
   "cell_type": "code",
   "execution_count": 5,
   "id": "a056cbda",
   "metadata": {},
   "outputs": [
    {
     "name": "stdout",
     "output_type": "stream",
     "text": [
      "11\n",
      "3\n",
      "[11]\n"
     ]
    }
   ],
   "source": [
    "n = int(input())\n",
    "k=[]\n",
    "while(n%2==0):\n",
    "    k.append(2)\n",
    "    n = n//2\n",
    "    \n",
    "for i in range(3,int(n**0.5)+1,2):\n",
    "    print(i)\n",
    "    while n%i==0:\n",
    "        k.append(i)\n",
    "        n=n//i\n",
    "        \n",
    "if n>1:\n",
    "    k.append(n)\n",
    "    \n",
    "    \n",
    "print(k)"
   ]
  },
  {
   "cell_type": "markdown",
   "id": "dbdb93fa",
   "metadata": {},
   "source": [
    "# To check prime numbers"
   ]
  },
  {
   "cell_type": "code",
   "execution_count": 120,
   "id": "0f138e41",
   "metadata": {},
   "outputs": [
    {
     "name": "stdout",
     "output_type": "stream",
     "text": [
      "97\n",
      "Prime\n"
     ]
    }
   ],
   "source": [
    "n = int(input())\n",
    "if(n<1):\n",
    "    print(\"Composite\")\n",
    "if(n<=3):\n",
    "    print(\"prime\")\n",
    "if(n%2==0 or n%3==0):\n",
    "    print(\"composite\")\n",
    "i = 5\n",
    "while i*i <= n :\n",
    "    if(n%i==0 or n%i+2==0):\n",
    "        print(\"Composite\")\n",
    "    i+=6\n",
    "print(\"Prime\")"
   ]
  },
  {
   "cell_type": "markdown",
   "id": "b67ec4c2",
   "metadata": {},
   "source": [
    "### "
   ]
  }
 ],
 "metadata": {
  "kernelspec": {
   "display_name": "Python 3 (ipykernel)",
   "language": "python",
   "name": "python3"
  },
  "language_info": {
   "codemirror_mode": {
    "name": "ipython",
    "version": 3
   },
   "file_extension": ".py",
   "mimetype": "text/x-python",
   "name": "python",
   "nbconvert_exporter": "python",
   "pygments_lexer": "ipython3",
   "version": "3.10.2"
  }
 },
 "nbformat": 4,
 "nbformat_minor": 5
}

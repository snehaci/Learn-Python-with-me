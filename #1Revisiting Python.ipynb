{
 "cells": [
  {
   "cell_type": "code",
   "execution_count": 1,
   "id": "c7f6ebd5",
   "metadata": {},
   "outputs": [
    {
     "name": "stdout",
     "output_type": "stream",
     "text": [
      "Cheer up my dear!\n"
     ]
    }
   ],
   "source": [
    "print(\"Cheer up my dear!\")"
   ]
  },
  {
   "cell_type": "code",
   "execution_count": 2,
   "id": "71ec7c26",
   "metadata": {},
   "outputs": [
    {
     "ename": "NameError",
     "evalue": "name 'python' is not defined",
     "output_type": "error",
     "traceback": [
      "\u001b[1;31m---------------------------------------------------------------------------\u001b[0m",
      "\u001b[1;31mNameError\u001b[0m                                 Traceback (most recent call last)",
      "Input \u001b[1;32mIn [2]\u001b[0m, in \u001b[0;36m<module>\u001b[1;34m\u001b[0m\n\u001b[1;32m----> 1\u001b[0m \u001b[43mpython\u001b[49m \u001b[38;5;241m-\u001b[39m\u001b[38;5;241m-\u001b[39mversion\n",
      "\u001b[1;31mNameError\u001b[0m: name 'python' is not defined"
     ]
    }
   ],
   "source": [
    "python --version"
   ]
  },
  {
   "cell_type": "code",
   "execution_count": 3,
   "id": "e480d244",
   "metadata": {},
   "outputs": [
    {
     "name": "stdout",
     "output_type": "stream",
     "text": [
      "hmm...\n"
     ]
    }
   ],
   "source": [
    "if 3 < 8 :\n",
    "    print(\"hmm...\")"
   ]
  },
  {
   "cell_type": "code",
   "execution_count": 4,
   "id": "01b1d09f",
   "metadata": {},
   "outputs": [
    {
     "name": "stdout",
     "output_type": "stream",
     "text": [
      "Happy Minded= 8.9\n"
     ]
    }
   ],
   "source": [
    "# VARIABLES\n",
    "V1 = 8.9\n",
    "V2 = 'Happy Minded'\n",
    "print(f\"{V2}= {V1}\")\n",
    "\n",
    "#''' print(V2+'='+V1) TypeError: can only concatenate str (not \"float\") to str'''"
   ]
  },
  {
   "cell_type": "code",
   "execution_count": 5,
   "id": "5f5151b8",
   "metadata": {},
   "outputs": [],
   "source": [
    "# --> Single Line Comment"
   ]
  },
  {
   "cell_type": "code",
   "execution_count": 6,
   "id": "cf217c53",
   "metadata": {},
   "outputs": [
    {
     "name": "stdout",
     "output_type": "stream",
     "text": [
      "Hell p\n",
      "   Hell   p\n"
     ]
    }
   ],
   "source": [
    "# To Remove extra spaces\n",
    "string = \"   Hell   p          \"\n",
    "print(*string.split())\n",
    "print(string.rstrip())"
   ]
  },
  {
   "cell_type": "code",
   "execution_count": 9,
   "id": "596d239b",
   "metadata": {},
   "outputs": [
    {
     "ename": "SyntaxError",
     "evalue": "invalid syntax (305427534.py, line 8)",
     "output_type": "error",
     "traceback": [
      "\u001b[1;36m  Input \u001b[1;32mIn [9]\u001b[1;36m\u001b[0m\n\u001b[1;33m    Since Python will ignore string literals that are not assigned to a variable,\u001b[0m\n\u001b[1;37m          ^\u001b[0m\n\u001b[1;31mSyntaxError\u001b[0m\u001b[1;31m:\u001b[0m invalid syntax\n"
     ]
    }
   ],
   "source": [
    "Multiline Comments\n",
    "Python does not really have a syntax for multiline comments.\n",
    "-->To add a multiline comment you could insert a '''#''' for each line\n",
    "\n",
    "\n",
    "Since Python will ignore string literals that are not assigned to a variable, \n",
    "you can add a '''multiline string (triple quotes)''' in your code, \n",
    "and place your comment inside it.\n",
    "\n"
   ]
  },
  {
   "cell_type": "code",
   "execution_count": 10,
   "id": "79c22ebc",
   "metadata": {},
   "outputs": [
    {
     "data": {
      "text/plain": [
       "'hello\\nlok\\nlpo\\n\\n'"
      ]
     },
     "execution_count": 10,
     "metadata": {},
     "output_type": "execute_result"
    }
   ],
   "source": [
    "\"\"\"hello\n",
    "lok\n",
    "lpo\n",
    "\n",
    "\"\"\""
   ]
  },
  {
   "cell_type": "code",
   "execution_count": 11,
   "id": "a6f7971b",
   "metadata": {},
   "outputs": [
    {
     "data": {
      "text/plain": [
       "'hai'"
      ]
     },
     "execution_count": 11,
     "metadata": {},
     "output_type": "execute_result"
    }
   ],
   "source": [
    "'hai'"
   ]
  },
  {
   "cell_type": "code",
   "execution_count": 12,
   "id": "e9f47504",
   "metadata": {},
   "outputs": [
    {
     "name": "stdout",
     "output_type": "stream",
     "text": [
      "0   jaky\n"
     ]
    }
   ],
   "source": [
    "# PYTHON VARIABLES\n",
    "x = 0\n",
    "y = \"jaky\"\n",
    "print(x,y,sep='   ')\n"
   ]
  },
  {
   "cell_type": "code",
   "execution_count": 13,
   "id": "da5e8e8c",
   "metadata": {},
   "outputs": [
    {
     "name": "stdout",
     "output_type": "stream",
     "text": [
      "3 2 4.0\n",
      "<class 'str'>\n"
     ]
    }
   ],
   "source": [
    "# To specify DATATYPE use CASTING\n",
    "x = str(3)\n",
    "y = int(2)\n",
    "z = float(4)\n",
    "print(x,y,z)\n",
    "print(type(x))"
   ]
  },
  {
   "cell_type": "code",
   "execution_count": 14,
   "id": "66c38d2e",
   "metadata": {},
   "outputs": [
    {
     "name": "stdout",
     "output_type": "stream",
     "text": [
      "<class 'str'> <class 'int'>\n"
     ]
    }
   ],
   "source": [
    "# case sensitive (variables)\n",
    "s = '4.9'\n",
    "S = 45567\n",
    "print(type(s),type(S))"
   ]
  },
  {
   "cell_type": "code",
   "execution_count": 15,
   "id": "b8f7f679",
   "metadata": {},
   "outputs": [],
   "source": [
    "# PascalCase\n",
    "# snake_case"
   ]
  },
  {
   "cell_type": "code",
   "execution_count": 16,
   "id": "3d73f5e1",
   "metadata": {},
   "outputs": [
    {
     "name": "stdout",
     "output_type": "stream",
     "text": [
      "4 6\n"
     ]
    }
   ],
   "source": [
    "a,b,c,d,f = 1,2,4,5,6\n",
    "print(c,f)"
   ]
  },
  {
   "cell_type": "code",
   "execution_count": 17,
   "id": "da2e037a",
   "metadata": {},
   "outputs": [
    {
     "name": "stdout",
     "output_type": "stream",
     "text": [
      "3.6\n"
     ]
    }
   ],
   "source": [
    "a=c=v=3.6\n",
    "print(c)"
   ]
  },
  {
   "cell_type": "code",
   "execution_count": 18,
   "id": "1e538b0f",
   "metadata": {},
   "outputs": [
    {
     "name": "stdout",
     "output_type": "stream",
     "text": [
      "5\n",
      "ram\n"
     ]
    }
   ],
   "source": [
    "sen1 = [\"sita\",\"ram\",\"bheem\"]\n",
    "print(len(sen1[-1]))\n",
    "a,f,c = sen1\n",
    "print(f)"
   ]
  },
  {
   "cell_type": "code",
   "execution_count": 19,
   "id": "d7344424",
   "metadata": {},
   "outputs": [
    {
     "name": "stdout",
     "output_type": "stream",
     "text": [
      "John John John John John \n"
     ]
    }
   ],
   "source": [
    "x = 5\n",
    "y = \"John \"\n",
    "# print(y + x) TypeError: can only concatenate str (not \"int\") to str\n",
    "print(y * x)"
   ]
  },
  {
   "cell_type": "code",
   "execution_count": 20,
   "id": "8df9c151",
   "metadata": {},
   "outputs": [
    {
     "name": "stdout",
     "output_type": "stream",
     "text": [
      "GoodVibesGoodVibesGoodVibes\n"
     ]
    }
   ],
   "source": [
    "'''Global Variables\n",
    "Variables that are created outside of a function (as in all of the examples above)\n",
    "\n",
    "Global variables can be used by everyone, both inside of functions and outside.'''\n",
    "\n",
    "def samp(v):\n",
    "    \n",
    "    return v*3\n",
    "\n",
    "v = 'GoodVibes' # Global var \n",
    "samp(v)\n",
    "print(samp(v))"
   ]
  },
  {
   "cell_type": "code",
   "execution_count": 21,
   "id": "f8964b8e",
   "metadata": {},
   "outputs": [
    {
     "name": "stdout",
     "output_type": "stream",
     "text": [
      "only\n",
      "onlyonlyonly\n",
      "GoodVibes\n"
     ]
    }
   ],
   "source": [
    "def samp(v):\n",
    "    v = \"only\" \n",
    "    print(v)    \n",
    "    return v*3\n",
    "\n",
    "v = \"GoodVibes\" # Global var \n",
    "print(samp(v))\n",
    "print(v)"
   ]
  },
  {
   "cell_type": "code",
   "execution_count": 22,
   "id": "68144a04",
   "metadata": {},
   "outputs": [
    {
     "name": "stdout",
     "output_type": "stream",
     "text": [
      "GoodVibes\n",
      "only\n",
      "onlyonlyonly\n",
      "only\n"
     ]
    }
   ],
   "source": [
    "# GLOBAL KEYWORD\n",
    "#'''To create a global variable inside a function, you can use the global keyword'''\n",
    "def samp():\n",
    "    global v\n",
    "    v = \"only\" \n",
    "    print(v)    \n",
    "    return v*3\n",
    "\n",
    "v = \"GoodVibes\" # Global var\n",
    "print(v) #\n",
    "print(samp())\n",
    "print(v) #\n"
   ]
  },
  {
   "cell_type": "code",
   "execution_count": null,
   "id": "eeb8f821",
   "metadata": {},
   "outputs": [],
   "source": [
    "# Built in data types\n",
    "\n",
    "Text Type:\tstr\n",
    "Numeric Types:\tint, float, complex\n",
    "Sequence Types:\tlist, tuple, range\n",
    "Mapping Type:\tdict\n",
    "Set Types:\tset, frozenset\n",
    "Boolean Type:\tbool\n",
    "Binary Types:\tbytes, bytearray, memoryview\n",
    "None Type:\tNone"
   ]
  },
  {
   "cell_type": "code",
   "execution_count": 23,
   "id": "e1772cf0",
   "metadata": {},
   "outputs": [
    {
     "data": {
      "text/plain": [
       "complex"
      ]
     },
     "execution_count": 23,
     "metadata": {},
     "output_type": "execute_result"
    }
   ],
   "source": [
    "k = 2+4j\n",
    "type(k)"
   ]
  },
  {
   "cell_type": "code",
   "execution_count": 24,
   "id": "9a0288ca",
   "metadata": {},
   "outputs": [
    {
     "name": "stdout",
     "output_type": "stream",
     "text": [
      "0 1 2 3 4 5 6\n"
     ]
    },
    {
     "data": {
      "text/plain": [
       "range(0, 7)"
      ]
     },
     "execution_count": 24,
     "metadata": {},
     "output_type": "execute_result"
    }
   ],
   "source": [
    "x = range(7)\n",
    "print(*x)\n",
    "x"
   ]
  },
  {
   "cell_type": "code",
   "execution_count": 25,
   "id": "86afcc1a",
   "metadata": {},
   "outputs": [
    {
     "name": "stdout",
     "output_type": "stream",
     "text": [
      "<class 'frozenset'>\n",
      "frozenset({'vagamon', 'Kochi', 'banglore'})\n"
     ]
    }
   ],
   "source": [
    "s = {\"coorg\",\"banglore\",\"vagamon\"}\n",
    "S = frozenset({\"Kochi\",\"banglore\",\"vagamon\"})\n",
    "print(type(S),S,sep = \"\\n\")"
   ]
  },
  {
   "cell_type": "code",
   "execution_count": 26,
   "id": "6c222fe2",
   "metadata": {},
   "outputs": [
    {
     "name": "stdout",
     "output_type": "stream",
     "text": [
      "<class 'bytes'>\n"
     ]
    }
   ],
   "source": [
    "z = b\"jai\"\n",
    "print(type(z))"
   ]
  },
  {
   "cell_type": "code",
   "execution_count": 27,
   "id": "a60195ef",
   "metadata": {},
   "outputs": [
    {
     "name": "stdout",
     "output_type": "stream",
     "text": [
      "bytearray(b'\\x00\\x00\\x00\\x00\\x00')\n",
      "<memory at 0x00000289A8B68940>\n",
      "None\n"
     ]
    }
   ],
   "source": [
    "x = bytearray(5)\n",
    "print(x)\n",
    "x = memoryview(bytes(5))\n",
    "print(x)\n",
    "x = None\n",
    "print(x)"
   ]
  },
  {
   "cell_type": "code",
   "execution_count": 28,
   "id": "d9f3e6e5",
   "metadata": {},
   "outputs": [
    {
     "name": "stdout",
     "output_type": "stream",
     "text": [
      "{'name': 'John', 'age': 36} \n",
      " {'banana', 'cherry', 'apple'}\n"
     ]
    }
   ],
   "source": [
    "x = dict(name=\"John\", age=36)\n",
    "y = set((\"apple\", \"banana\", \"cherry\"))\n",
    "print(x,'\\n',y)"
   ]
  },
  {
   "cell_type": "code",
   "execution_count": 29,
   "id": "5af4e7b3",
   "metadata": {},
   "outputs": [
    {
     "name": "stdout",
     "output_type": "stream",
     "text": [
      "(3+0j)\n"
     ]
    }
   ],
   "source": [
    "u = 3\n",
    "print(complex(u))"
   ]
  },
  {
   "cell_type": "code",
   "execution_count": null,
   "id": "a342bf6c",
   "metadata": {},
   "outputs": [],
   "source": [
    "'''Python Numbers\n",
    "There are three numeric types in Python:\n",
    "\n",
    ">>> int\n",
    ">>> float\n",
    ">>> complex'''"
   ]
  },
  {
   "cell_type": "code",
   "execution_count": 30,
   "id": "0fcec9e2",
   "metadata": {},
   "outputs": [
    {
     "name": "stdout",
     "output_type": "stream",
     "text": [
      "2\n"
     ]
    }
   ],
   "source": [
    "# Builtin Random function\n",
    "import random\n",
    "print(random.randrange(2,9))"
   ]
  },
  {
   "cell_type": "code",
   "execution_count": null,
   "id": "294bc26b",
   "metadata": {},
   "outputs": [],
   "source": [
    "\"\"\" Strings are Arrays\n",
    "Like many other popular programming languages, strings in Python are arrays of bytes representing \n",
    "unicode characters.\n",
    "\n",
    "However, Python does not have a character data type, a single character is simply a string with a \n",
    "length of 1.\n",
    "\n",
    "Square brackets can be used to access elements of the string.\n",
    "\n",
    "\"\"\""
   ]
  },
  {
   "cell_type": "code",
   "execution_count": 31,
   "id": "dc7bf168",
   "metadata": {},
   "outputs": [
    {
     "name": "stdout",
     "output_type": "stream",
     "text": [
      "! \n",
      "\n",
      "h\n",
      "e\n",
      "l\n",
      "l\n",
      "o\n",
      ",\n",
      " \n",
      "w\n",
      "h\n",
      "a\n",
      "t\n",
      "?\n",
      " \n",
      "h\n",
      "u\n",
      "h\n",
      "!\n",
      "!\n"
     ]
    }
   ],
   "source": [
    "t = \"hello, what? huh!!\"\n",
    "print(t[-1],'\\n')\n",
    "for ch in t:# looping through a string\n",
    "    print(ch)"
   ]
  },
  {
   "cell_type": "code",
   "execution_count": 32,
   "id": "94e4ac7c",
   "metadata": {},
   "outputs": [
    {
     "name": "stdout",
     "output_type": "stream",
     "text": [
      "True\n"
     ]
    }
   ],
   "source": [
    "print('huh' in t)"
   ]
  },
  {
   "cell_type": "code",
   "execution_count": 33,
   "id": "7b045a8f",
   "metadata": {},
   "outputs": [
    {
     "name": "stdout",
     "output_type": "stream",
     "text": [
      "False\n"
     ]
    }
   ],
   "source": [
    "print('!' not in t)"
   ]
  },
  {
   "cell_type": "code",
   "execution_count": 34,
   "id": "838cc184",
   "metadata": {},
   "outputs": [
    {
     "name": "stdout",
     "output_type": "stream",
     "text": [
      "hello, what? huh!!\n",
      "!u?h,l\n",
      "!!huh ?tahw ,olleh\n"
     ]
    }
   ],
   "source": [
    "print(t)\n",
    "print(t[::-3])\n",
    "print(t[::-1])\n",
    "# Slicing"
   ]
  },
  {
   "cell_type": "code",
   "execution_count": 35,
   "id": "edbfeda9",
   "metadata": {},
   "outputs": [
    {
     "name": "stdout",
     "output_type": "stream",
     "text": [
      "HELLO, WHAT? HUH!!\n",
      "hello, what? huh!!\n",
      "hello, what? huh!!\n",
      "hello, what? huh||\n",
      "hello, what ^^^  huh!!\n"
     ]
    }
   ],
   "source": [
    "#Built in methods\n",
    "print(t.upper())\n",
    "print(t.lower())\n",
    "print(t.strip())\n",
    "print(t.replace('!','|'))\n",
    "print(*t.split('?'),sep =\" ^^^ \")"
   ]
  },
  {
   "cell_type": "code",
   "execution_count": 36,
   "id": "f3bc1bbb",
   "metadata": {},
   "outputs": [
    {
     "name": "stdout",
     "output_type": "stream",
     "text": [
      "hai kikii! write 3 in words!\n"
     ]
    }
   ],
   "source": [
    "n = \"hai {}! write {} in words!\"\n",
    "print(n.format(\"kikii\",3))"
   ]
  },
  {
   "cell_type": "code",
   "execution_count": 37,
   "id": "488e35d7",
   "metadata": {},
   "outputs": [
    {
     "name": "stdout",
     "output_type": "stream",
     "text": [
      "hai sidh! write 4 in words!\n"
     ]
    }
   ],
   "source": [
    "g = 4\n",
    "f = \"sidh\"\n",
    "n = \"hai {1}! write {0} in words!\"\n",
    "\n",
    "print(n.format(g,f))"
   ]
  },
  {
   "cell_type": "code",
   "execution_count": 38,
   "id": "b8d74549",
   "metadata": {},
   "outputs": [
    {
     "name": "stdout",
     "output_type": "stream",
     "text": [
      "We are the so-called \"Vikings\" from the north.\n"
     ]
    }
   ],
   "source": [
    "#Escape characters\n",
    "txt = \"We are the so-called \\\"Vikings\\\" from the north.\"\n",
    "print(txt)"
   ]
  },
  {
   "cell_type": "code",
   "execution_count": 39,
   "id": "58951a85",
   "metadata": {},
   "outputs": [
    {
     "name": "stdout",
     "output_type": "stream",
     "text": [
      "__add__  ,  __class__  ,  __contains__  ,  __delattr__  ,  __dir__  ,  __doc__  ,  __eq__  ,  __format__  ,  __ge__  ,  __getattribute__  ,  __getitem__  ,  __getnewargs__  ,  __gt__  ,  __hash__  ,  __init__  ,  __init_subclass__  ,  __iter__  ,  __le__  ,  __len__  ,  __lt__  ,  __mod__  ,  __mul__  ,  __ne__  ,  __new__  ,  __reduce__  ,  __reduce_ex__  ,  __repr__  ,  __rmod__  ,  __rmul__  ,  __setattr__  ,  __sizeof__  ,  __str__  ,  __subclasshook__  ,  capitalize  ,  casefold  ,  center  ,  count  ,  encode  ,  endswith  ,  expandtabs  ,  find  ,  format  ,  format_map  ,  index  ,  isalnum  ,  isalpha  ,  isascii  ,  isdecimal  ,  isdigit  ,  isidentifier  ,  islower  ,  isnumeric  ,  isprintable  ,  isspace  ,  istitle  ,  isupper  ,  join  ,  ljust  ,  lower  ,  lstrip  ,  maketrans  ,  partition  ,  removeprefix  ,  removesuffix  ,  replace  ,  rfind  ,  rindex  ,  rjust  ,  rpartition  ,  rsplit  ,  rstrip  ,  split  ,  splitlines  ,  startswith  ,  strip  ,  swapcase  ,  title  ,  translate  ,  upper  ,  zfill\n"
     ]
    }
   ],
   "source": [
    "print(*dir(str),sep = \"  ,  \")"
   ]
  },
  {
   "cell_type": "code",
   "execution_count": 40,
   "id": "be7d7bf9",
   "metadata": {},
   "outputs": [
    {
     "name": "stdout",
     "output_type": "stream",
     "text": [
      "__add__  ,  __class__  ,  __class_getitem__  ,  __contains__  ,  __delattr__  ,  __delitem__  ,  __dir__  ,  __doc__  ,  __eq__  ,  __format__  ,  __ge__  ,  __getattribute__  ,  __getitem__  ,  __gt__  ,  __hash__  ,  __iadd__  ,  __imul__  ,  __init__  ,  __init_subclass__  ,  __iter__  ,  __le__  ,  __len__  ,  __lt__  ,  __mul__  ,  __ne__  ,  __new__  ,  __reduce__  ,  __reduce_ex__  ,  __repr__  ,  __reversed__  ,  __rmul__  ,  __setattr__  ,  __setitem__  ,  __sizeof__  ,  __str__  ,  __subclasshook__  ,  append  ,  clear  ,  copy  ,  count  ,  extend  ,  index  ,  insert  ,  pop  ,  remove  ,  reverse  ,  sort\n"
     ]
    }
   ],
   "source": [
    "print(*dir(list),sep = \"  ,  \")\n",
    "# 'append', 'clear', 'copy', 'count', 'extend', 'index', 'insert', 'pop', 'remove', 'reverse', 'sort'"
   ]
  },
  {
   "cell_type": "code",
   "execution_count": 41,
   "id": "8c98e2b9",
   "metadata": {},
   "outputs": [
    {
     "name": "stdout",
     "output_type": "stream",
     "text": [
      "__class__  ,  __class_getitem__  ,  __contains__  ,  __delattr__  ,  __delitem__  ,  __dir__  ,  __doc__  ,  __eq__  ,  __format__  ,  __ge__  ,  __getattribute__  ,  __getitem__  ,  __gt__  ,  __hash__  ,  __init__  ,  __init_subclass__  ,  __ior__  ,  __iter__  ,  __le__  ,  __len__  ,  __lt__  ,  __ne__  ,  __new__  ,  __or__  ,  __reduce__  ,  __reduce_ex__  ,  __repr__  ,  __reversed__  ,  __ror__  ,  __setattr__  ,  __setitem__  ,  __sizeof__  ,  __str__  ,  __subclasshook__  ,  clear  ,  copy  ,  fromkeys  ,  get  ,  items  ,  keys  ,  pop  ,  popitem  ,  setdefault  ,  update  ,  values\n"
     ]
    }
   ],
   "source": [
    "print(*dir(dict),sep = \"  ,  \")\n",
    "\n",
    "# clear  ,  copy  ,  fromkeys  ,  get  ,  items  ,  keys  ,  pop  ,  popitem  ,  setdefault  ,\n",
    "# update  ,  values"
   ]
  }
 ],
 "metadata": {
  "kernelspec": {
   "display_name": "Python 3 (ipykernel)",
   "language": "python",
   "name": "python3"
  },
  "language_info": {
   "codemirror_mode": {
    "name": "ipython",
    "version": 3
   },
   "file_extension": ".py",
   "mimetype": "text/x-python",
   "name": "python",
   "nbconvert_exporter": "python",
   "pygments_lexer": "ipython3",
   "version": "3.10.2"
  }
 },
 "nbformat": 4,
 "nbformat_minor": 5
}

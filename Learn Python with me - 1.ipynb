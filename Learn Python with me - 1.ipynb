{
 "cells": [
  {
   "cell_type": "code",
   "execution_count": 1,
   "id": "8e3ba038",
   "metadata": {},
   "outputs": [],
   "source": [
    "#Learning and Recalling Python ;)"
   ]
  },
  {
   "cell_type": "code",
   "execution_count": 4,
   "id": "d9b16853",
   "metadata": {},
   "outputs": [
    {
     "name": "stdout",
     "output_type": "stream",
     "text": [
      "Hello you, May you have a Fantastic day! Fantastic day! Fantastic day! \n"
     ]
    }
   ],
   "source": [
    "#Printing my first program\n",
    "print(\"Hello you, May you have a\",3 * \"Fantastic day! \")"
   ]
  },
  {
   "cell_type": "code",
   "execution_count": 6,
   "id": "1f21c897",
   "metadata": {},
   "outputs": [
    {
     "name": "stdout",
     "output_type": "stream",
     "text": [
      "Mark has got 90 marks in Geography and his grade is 7.6\n",
      "True\n"
     ]
    }
   ],
   "source": [
    "#Variables\n",
    "name = 'Mark'   #Assigning string\n",
    "mark = 90       #Assigning integer\n",
    "grade = 7.6     #Assigning float\n",
    "is_Male = True  #Assigning Boolean values\n",
    "print(name,\"has got\",mark,\"marks in Geography and his grade is\",grade)\n",
    "print(is_Male)"
   ]
  },
  {
   "cell_type": "code",
   "execution_count": 8,
   "id": "978adefe",
   "metadata": {},
   "outputs": [
    {
     "name": "stdout",
     "output_type": "stream",
     "text": [
      "Your good name?Snek\n",
      "Welcome Snek !\n",
      "Snek,How can I help you?\n"
     ]
    }
   ],
   "source": [
    "#To Get User input\n",
    "customer = input(\"Your good name?\")\n",
    "print(\"Welcome %s !\"%customer)\n",
    "print(customer+\",How can I help you?\")"
   ]
  },
  {
   "cell_type": "code",
   "execution_count": 16,
   "id": "70acb575",
   "metadata": {},
   "outputs": [
    {
     "name": "stdout",
     "output_type": "stream",
     "text": [
      "Enter u'r year of birth : 1999\n",
      "\n",
      "Your age is 23\n"
     ]
    }
   ],
   "source": [
    "#Type conversion\n",
    "Birth_year = input(\"Enter u'r year of birth : \")\n",
    "age = 2022-int(Birth_year)\n",
    "print(\"\\nYour age is\",age) \n",
    "# 2 builtin functions --> print() & int()"
   ]
  },
  {
   "cell_type": "code",
   "execution_count": 18,
   "id": "16af7c3f",
   "metadata": {},
   "outputs": [
    {
     "name": "stdout",
     "output_type": "stream",
     "text": [
      "<class 'int'>\n",
      "<class 'str'>\n"
     ]
    }
   ],
   "source": [
    "#To know the type\n",
    "print(type(age))\n",
    "print(type(Birth_year))"
   ]
  },
  {
   "cell_type": "code",
   "execution_count": 26,
   "id": "dedae45d",
   "metadata": {},
   "outputs": [
    {
     "name": "stdout",
     "output_type": "stream",
     "text": [
      "I have a pet dog\n",
      "and her name is Julie\n",
      "\n",
      "I love '3' her!!!\n",
      "\n",
      "1st character -  I\n",
      "\n",
      "last character by negative indexing -  !\n",
      "\n",
      "Slicing -  I have a pet dog\n",
      "and\n",
      "\n",
      "Slicing -   have a pet dog\n",
      "and her name is Julie\n",
      "\n",
      "I love '3' her!!\n",
      "\n",
      "printing even position characters -  Ihv  e o\n",
      "n e aei ui\n",
      "Ilv 3 e!!\n"
     ]
    }
   ],
   "source": [
    "#Strings\n",
    "name = \"Annie\"\n",
    "pet_details = '''I have a pet dog\n",
    "and her name is Julie\n",
    "\n",
    "I love '3' her!!!'''\n",
    "print(pet_details)\n",
    "\n",
    "print(\"\\n1st character - \",pet_details[0]) #printing 1st character \n",
    "print(\"\\nlast character by negative indexing - \",pet_details[-1]) #printing last character by negative indexing\n",
    "print(\"\\nSlicing - \",pet_details[0:20]) #Slicing\n",
    "print(\"\\nSlicing - \",pet_details[1:-1])\n",
    "print(\"\\nprinting even position characters - \",pet_details[::2]) #printing even position characters"
   ]
  },
  {
   "cell_type": "code",
   "execution_count": 41,
   "id": "d0e97969",
   "metadata": {},
   "outputs": [
    {
     "name": "stdout",
     "output_type": "stream",
     "text": [
      "kEanu [Jack] is a Pilot\n",
      "kEanu [Jack] is a coder\n"
     ]
    }
   ],
   "source": [
    "#formatting strings\n",
    "first = \"kEanu\"\n",
    "last = \"Jack\"\n",
    "msg = first + ' ['+last+'] ' 'is a Pilot' #traditional\n",
    "msg2 = f'{first} [{last}] is a coder' #impressive\n",
    "print(msg,msg2,sep=\"\\n\")"
   ]
  },
  {
   "cell_type": "code",
   "execution_count": 42,
   "id": "5d81a33e",
   "metadata": {},
   "outputs": [
    {
     "name": "stdout",
     "output_type": "stream",
     "text": [
      "5\n",
      "KEANU\n",
      "keanu\n",
      "KeANU\n",
      "Keanu\n",
      "-1\n",
      "-1\n",
      "13\n",
      "kEanu [Jack] was a Pilot\n",
      "True\n"
     ]
    }
   ],
   "source": [
    "#String methods\n",
    "#first = Keanu\n",
    "print(len(first))    #builtin general purpose function\n",
    "print(first.upper()) #coverts to uppercase\n",
    "print(first.lower()) #coverts to lowercase\n",
    "print(first.swapcase()) #coverts uppercase to lowercase and vice versa\n",
    "print(first.title())    #converts the first character to uppercase\n",
    "print(first.find('e'))  #finds a character & returns the index\n",
    "print(first.find('Z'))  #prints '-1' becaz it's not found \n",
    "print(msg.find('is'))   #prints first found characters position\n",
    "print(msg.replace('is','was'))  #replaces 'is' with 'was'\n",
    "print(\"Jack\" in msg)            #returns bool true or false if the word 'jack' is present in msg"
   ]
  },
  {
   "cell_type": "code",
   "execution_count": 1,
   "id": "23463ec5",
   "metadata": {},
   "outputs": [
    {
     "name": "stdout",
     "output_type": "stream",
     "text": [
      "2\n",
      "2.25\n",
      "1\n",
      "6561\n"
     ]
    }
   ],
   "source": [
    "#Arithmetic Operations\n",
    "print(9//4) #floor division\n",
    "print(9/4)  #division\n",
    "print(9%4)  #modulus\n",
    "print(9**4) #exponentiation"
   ]
  },
  {
   "cell_type": "code",
   "execution_count": 7,
   "id": "79901785",
   "metadata": {},
   "outputs": [
    {
     "name": "stdout",
     "output_type": "stream",
     "text": [
      "23\n",
      "9.8\n"
     ]
    }
   ],
   "source": [
    "#Augmented assignment operator\n",
    "s = 10\n",
    "s += 13\n",
    "print(s)\n",
    "#operator precedance\n",
    " # 1. paranthesis\n",
    " # 2. **\n",
    " # 3. * or /\n",
    " # 4. + or -\n",
    "r = 10 - 82 % 9 ** 2 / 5 \n",
    "print(r)"
   ]
  },
  {
   "cell_type": "code",
   "execution_count": 9,
   "id": "77490933",
   "metadata": {},
   "outputs": [
    {
     "name": "stdout",
     "output_type": "stream",
     "text": [
      "11\n",
      "34\n",
      "3\n",
      "2\n"
     ]
    }
   ],
   "source": [
    "#Math functions\n",
    "print(round(10.8))\n",
    "print(abs(-34))\n",
    "#math module-> is a separate reusable file in py\n",
    "import math\n",
    "print(math.ceil(2.5))\n",
    "print(math.floor(2.5))\n",
    "# Python 3 math module-> https://docs.python.org/3/library/math.html"
   ]
  },
  {
   "cell_type": "code",
   "execution_count": 10,
   "id": "44d22b40",
   "metadata": {},
   "outputs": [
    {
     "name": "stdout",
     "output_type": "stream",
     "text": [
      "Wait for the right information!\n"
     ]
    }
   ],
   "source": [
    "#if statement\n",
    "is_leave = False\n",
    "no_leave = False\n",
    "if is_leave:\n",
    "    print(\"Stay safe at home\")\n",
    "elif no_leave:\n",
    "    print(\"Go to school\")\n",
    "else:\n",
    "    print(\"Wait for the right information!\")"
   ]
  },
  {
   "cell_type": "code",
   "execution_count": 14,
   "id": "1d0a3762",
   "metadata": {},
   "outputs": [
    {
     "name": "stdout",
     "output_type": "stream",
     "text": [
      "0\n",
      "1\n",
      "False\n"
     ]
    }
   ],
   "source": [
    "#logical operators\n",
    "print(1 and 0)\n",
    "print(1 or 0)\n",
    "print(not 1)"
   ]
  },
  {
   "cell_type": "code",
   "execution_count": 15,
   "id": "46191425",
   "metadata": {},
   "outputs": [
    {
     "name": "stdout",
     "output_type": "stream",
     "text": [
      "True\n",
      "False\n",
      "False\n"
     ]
    }
   ],
   "source": [
    "#Comparison operators\n",
    "print(2<9)\n",
    "print(3>=4)\n",
    "print(3!=3)"
   ]
  },
  {
   "cell_type": "code",
   "execution_count": 19,
   "id": "41c54df1",
   "metadata": {},
   "outputs": [
    {
     "name": "stdout",
     "output_type": "stream",
     "text": [
      "@\n",
      "@@\n",
      "@@@\n",
      "@@@@\n",
      "@@@@@\n",
      "Done\n"
     ]
    }
   ],
   "source": [
    "#while loop\n",
    "i = 1\n",
    "while( i<=5 ):\n",
    "    print(i*'@')\n",
    "    i += 1\n",
    "print(\"Done\")"
   ]
  },
  {
   "cell_type": "code",
   "execution_count": 22,
   "id": "1b3ca8ec",
   "metadata": {},
   "outputs": [
    {
     "name": "stdout",
     "output_type": "stream",
     "text": [
      "3\n",
      "Guess the number: 3\n",
      "7\n",
      "Guess the number: 7\n",
      "You WON....!\n"
     ]
    }
   ],
   "source": [
    "#GUESSING GAME\n",
    "secret_no = 7\n",
    "guess_count = 0\n",
    "guess_limit = 3\n",
    "while(guess_count < guess_limit):\n",
    "    guess = int(input())\n",
    "    print(\"Guess the number:\",guess)\n",
    "    guess_count += 1\n",
    "    if guess == secret_no:\n",
    "        print(\"You WON....!\")\n",
    "        break\n",
    "else:\n",
    "    print(\"You failed!\\nBetter luck next time :)\")"
   ]
  },
  {
   "cell_type": "code",
   "execution_count": null,
   "id": "7d1ddcfb",
   "metadata": {},
   "outputs": [],
   "source": [
    "#car game\n",
    "command = input(\"Your command plz : \").lower()\n",
    "if command =='start':\n",
    "    print(\"Car started\")\n",
    "elif command =='stop':\n",
    "    print(\"Car stopped!\")\n",
    "elif command =='help':\n",
    "    print('''start -> Start the car\n",
    "    stop -> Stop the car\n",
    "    quit -> Exits''')\n",
    "elif command =='quit':\n",
    "    break\n",
    "else:\n",
    "    print(\"Sorry, I didn't get you :( \")    \n",
    "    "
   ]
  },
  {
   "cell_type": "code",
   "execution_count": null,
   "id": "8bcbbbcd",
   "metadata": {},
   "outputs": [],
   "source": []
  }
 ],
 "metadata": {
  "kernelspec": {
   "display_name": "Python 3 (ipykernel)",
   "language": "python",
   "name": "python3"
  },
  "language_info": {
   "codemirror_mode": {
    "name": "ipython",
    "version": 3
   },
   "file_extension": ".py",
   "mimetype": "text/x-python",
   "name": "python",
   "nbconvert_exporter": "python",
   "pygments_lexer": "ipython3",
   "version": "3.10.2"
  }
 },
 "nbformat": 4,
 "nbformat_minor": 5
}

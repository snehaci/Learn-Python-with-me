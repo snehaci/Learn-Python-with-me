{
 "cells": [
  {
   "cell_type": "code",
   "execution_count": 1,
   "id": "6fccf90b",
   "metadata": {},
   "outputs": [
    {
     "name": "stdout",
     "output_type": "stream",
     "text": [
      "Enter a word: lovely\n",
      "Middle letter ---> e\n"
     ]
    }
   ],
   "source": [
    "#To find the middle letter of a string\n",
    "string = input(\"Enter a word: \")\n",
    "length = len(string)\n",
    "print(\"Middle letter --->\",string[length//2])"
   ]
  },
  {
   "cell_type": "code",
   "execution_count": 2,
   "id": "b9a560b1",
   "metadata": {},
   "outputs": [
    {
     "name": "stdout",
     "output_type": "stream",
     "text": [
      "Enter a list:ram sita snek Snek\n",
      "Yes\n"
     ]
    }
   ],
   "source": [
    "#To check if \"Snek\" is present in the list\n",
    "l = list(map(str,input(\"Enter a list:\").split()))\n",
    "if 'Snek' in l:\n",
    "    print(\"Yes\")\n",
    "else:\n",
    "    print(\"NO\")"
   ]
  },
  {
   "cell_type": "code",
   "execution_count": 3,
   "id": "d3f6c7bd",
   "metadata": {},
   "outputs": [
    {
     "name": "stdout",
     "output_type": "stream",
     "text": [
      "A Number? 9\n",
      "2 4 6 8 "
     ]
    }
   ],
   "source": [
    "#To print even integers from 1 to N\n",
    "val = int(input(\"A Number? \"))\n",
    "for i in range(1,val+1):\n",
    "    if(i%2==0):\n",
    "        print(i,end= \" \")"
   ]
  },
  {
   "cell_type": "code",
   "execution_count": 5,
   "id": "bf6d647e",
   "metadata": {},
   "outputs": [
    {
     "name": "stdout",
     "output_type": "stream",
     "text": [
      "goa 4\n",
      "gggg  oooo  aaaa  "
     ]
    }
   ],
   "source": [
    "#To print a repeatable string\n",
    "str,o=input().split()\n",
    "o = int(o)\n",
    "for i in range(len(str)):\n",
    "    print(str[i]*o,end=\"  \")"
   ]
  },
  {
   "cell_type": "code",
   "execution_count": 6,
   "id": "e39e09fd",
   "metadata": {},
   "outputs": [
    {
     "name": "stdout",
     "output_type": "stream",
     "text": [
      "2 -7 0\n",
      "-7\n",
      "-7\n"
     ]
    }
   ],
   "source": [
    "#To find the smallest element out of three\n",
    "a,b,c=input().split()\n",
    "print(a if(a<b and a<c) else b if(b<c) else c)\n",
    "print(min(a,b,c))"
   ]
  },
  {
   "cell_type": "code",
   "execution_count": 7,
   "id": "a505f612",
   "metadata": {},
   "outputs": [
    {
     "name": "stdout",
     "output_type": "stream",
     "text": [
      "jkl\n",
      "is\n",
      "\n",
      "# Fine\n"
     ]
    }
   ],
   "source": [
    "#Triple quotes enclosed string values (spans multiple lines including new)\n",
    "k = '''jkl\n",
    "is\n",
    "\n",
    "# Fine'''\n",
    "print(k)"
   ]
  },
  {
   "cell_type": "code",
   "execution_count": 8,
   "id": "b23dcf75",
   "metadata": {},
   "outputs": [
    {
     "name": "stdout",
     "output_type": "stream",
     "text": [
      "jk45\n",
      "False\n"
     ]
    }
   ],
   "source": [
    "# To check if the input contains only digits\n",
    "k = input()\n",
    "print(k.isdigit())"
   ]
  },
  {
   "cell_type": "code",
   "execution_count": 9,
   "id": "539f23c8",
   "metadata": {},
   "outputs": [
    {
     "name": "stdout",
     "output_type": "stream",
     "text": [
      "Positive vibes only....🤩\n",
      "oiievbsol..🤩\n"
     ]
    }
   ],
   "source": [
    "# To print Even position character\n",
    "a = input()\n",
    "print(a[1::2])"
   ]
  },
  {
   "cell_type": "code",
   "execution_count": 10,
   "id": "14e0b0eb",
   "metadata": {},
   "outputs": [
    {
     "name": "stdout",
     "output_type": "stream",
     "text": [
      "once in blue moon\n",
      "ONCE\n",
      "Once\n"
     ]
    }
   ],
   "source": [
    "# To toggle the case of 1st word\n",
    "b = input().split(\" \")\n",
    "l = b[0]\n",
    "print((b[0]).swapcase())\n",
    "print(l[0].swapcase(),l[1:],sep=\"\")"
   ]
  },
  {
   "cell_type": "code",
   "execution_count": 11,
   "id": "4120a270",
   "metadata": {},
   "outputs": [
    {
     "name": "stdout",
     "output_type": "stream",
     "text": [
      "2 3 444 5 6 77777 88 9 0\n",
      "0 88 6 444 2\n"
     ]
    }
   ],
   "source": [
    "# To print only even nubers in reverse order in their occurance\n",
    "list1 = list(map(int,input().split()))\n",
    "new_list=[]\n",
    "for i in range(0,len(list1)):\n",
    "    if(list1[i]%2==0):\n",
    "        new_list.append(list1[i]) \n",
    "        \n",
    "print(*new_list[::-1])"
   ]
  },
  {
   "cell_type": "code",
   "execution_count": 12,
   "id": "87ba5513",
   "metadata": {},
   "outputs": [
    {
     "name": "stdout",
     "output_type": "stream",
     "text": [
      "Enter a string : hello , am I making sense🤔❔\n",
      "Yep\n"
     ]
    }
   ],
   "source": [
    "#To check if first word starts with \"hello\"\n",
    "string  = input(\"Enter a string : \")\n",
    "if string.startswith(\"hello\"):\n",
    "    print(\"Yep\")\n",
    "else:\n",
    "    print(\"Oh no!\")"
   ]
  },
  {
   "cell_type": "code",
   "execution_count": 13,
   "id": "a5170fc9",
   "metadata": {},
   "outputs": [
    {
     "name": "stdout",
     "output_type": "stream",
     "text": [
      "[10, 97, 68]\n"
     ]
    }
   ],
   "source": [
    "#To delete a element in a list\n",
    "li = [10,8,97,68]\n",
    "del li[1]\n",
    "print(li)"
   ]
  },
  {
   "cell_type": "code",
   "execution_count": 15,
   "id": "538cfac5",
   "metadata": {},
   "outputs": [
    {
     "name": "stdout",
     "output_type": "stream",
     "text": [
      "['a', 'e', 'i', '0', 5, 'klo']\n"
     ]
    }
   ],
   "source": [
    "#Appending list\n",
    "l1 = ['a','e','i','0']\n",
    "l1 +=[5,\"klo\"]\n",
    "print(l1)"
   ]
  },
  {
   "cell_type": "code",
   "execution_count": 16,
   "id": "bc8e85a8",
   "metadata": {},
   "outputs": [
    {
     "name": "stdout",
     "output_type": "stream",
     "text": [
      "pineapple\n",
      "0\n",
      "1\n"
     ]
    }
   ],
   "source": [
    "#Finding the maximum\n",
    "fruits = ('custard apple','orange','pineapple','cherry',)\n",
    "print(max(fruits))\n",
    "print(fruits.count('Orange'))\n",
    "print(fruits.count('orange'))\n"
   ]
  },
  {
   "cell_type": "code",
   "execution_count": 17,
   "id": "e2e81f8c",
   "metadata": {},
   "outputs": [
    {
     "name": "stdout",
     "output_type": "stream",
     "text": [
      "The new list :  [1, 3, 7, 4, 5, 6]\n",
      "After sorting [1, 3, 4, 5, 6, 7]\n"
     ]
    }
   ],
   "source": [
    "#Inserting elements\n",
    "no = [1,3,4,5,6]\n",
    "no.insert(2,7)\n",
    "print(\"The new list : \",no)\n",
    "print(\"After sorting\",sorted(no))"
   ]
  }
 ],
 "metadata": {
  "kernelspec": {
   "display_name": "Python 3 (ipykernel)",
   "language": "python",
   "name": "python3"
  },
  "language_info": {
   "codemirror_mode": {
    "name": "ipython",
    "version": 3
   },
   "file_extension": ".py",
   "mimetype": "text/x-python",
   "name": "python",
   "nbconvert_exporter": "python",
   "pygments_lexer": "ipython3",
   "version": "3.10.2"
  }
 },
 "nbformat": 4,
 "nbformat_minor": 5
}

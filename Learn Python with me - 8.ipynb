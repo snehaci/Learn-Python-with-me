{
 "cells": [
  {
   "cell_type": "code",
   "execution_count": 1,
   "id": "4b511753",
   "metadata": {},
   "outputs": [
    {
     "name": "stdout",
     "output_type": "stream",
     "text": [
      "Enter some integers 👉3 4 5 -90 0 -1\n",
      "Minimum element is -90 @ the index 3\n"
     ]
    }
   ],
   "source": [
    "# Minimum element in a list\n",
    "list_1 = list(map(int,input(\"Enter some integers 👉\").split()))\n",
    "mini = list_1[0]\n",
    "pos = 0\n",
    "for k in range(len(list_1)):\n",
    "    if(list_1[k]<mini):\n",
    "        mini = list_1[k]\n",
    "        pos = k\n",
    "print(f\"Minimum element is {mini} @ the index {pos}\")"
   ]
  },
  {
   "cell_type": "code",
   "execution_count": 2,
   "id": "c91ccb8d",
   "metadata": {},
   "outputs": [
    {
     "name": "stdout",
     "output_type": "stream",
     "text": [
      "Palindrome\n"
     ]
    }
   ],
   "source": [
    "#Palindrome\n",
    "s1 = \"malayalam\"\n",
    "s2 = []\n",
    "for i in reversed(s1):\n",
    "    s2.append(i)\n",
    "\n",
    "if(list(s1)==s2):\n",
    "    print(\"Palindrome\")\n",
    "else:\n",
    "    print(\"Not a palindrome\")\n",
    "    "
   ]
  },
  {
   "cell_type": "code",
   "execution_count": 3,
   "id": "338cf450",
   "metadata": {},
   "outputs": [
    {
     "name": "stdout",
     "output_type": "stream",
     "text": [
      "Give me a word I'll tell u if it is Palindrome or not 👉 carrac\n",
      "'carrac' is a Palindrome\n"
     ]
    }
   ],
   "source": [
    "#Palindrome\n",
    "s1 = input(\"Give me a word I'll tell u if it is Palindrome or not 👉 \")\n",
    "s2 = []\n",
    "for i in range(len(s1)-1,-1,-1):\n",
    "    s2.append(s1[i])\n",
    "\n",
    "if(list(s1)==s2):\n",
    "    print(f\"'{s1}' is a Palindrome\")\n",
    "else:\n",
    "    print(f\"'{s1}' is not a palindrome\")\n",
    "    "
   ]
  },
  {
   "cell_type": "code",
   "execution_count": 4,
   "id": "b5b79366",
   "metadata": {},
   "outputs": [
    {
     "name": "stdout",
     "output_type": "stream",
     "text": [
      "Enter a word, I'll tell u the count 😉 :beautiful\n",
      "Count of b is 1\n",
      "Count of e is 1\n",
      "Count of a is 1\n",
      "Count of u is 2\n",
      "Count of t is 1\n",
      "Count of i is 1\n",
      "Count of f is 1\n",
      "Count of l is 1\n"
     ]
    }
   ],
   "source": [
    "# Count of characters\n",
    "from collections import OrderedDict\n",
    "s = input(\"Enter a word, I'll tell u the count 😉 :\")\n",
    "l = \"\".join(OrderedDict.fromkeys(s))\n",
    "\n",
    "for k in range(len(l)):\n",
    "    \n",
    "    print(f\"Count of {l[k]} is {s.count(l[k])}\")"
   ]
  },
  {
   "cell_type": "code",
   "execution_count": 5,
   "id": "7df9bfdf",
   "metadata": {},
   "outputs": [
    {
     "name": "stdout",
     "output_type": "stream",
     "text": [
      "Enter a word, I'll tell u the count 😉 :hey you! ;)\n",
      "Count of h is 1\n",
      "Count of e is 1\n",
      "Count of y is 2\n",
      "Count of   is 2\n",
      "Count of o is 1\n",
      "Count of u is 1\n",
      "Count of ! is 1\n",
      "Count of ; is 1\n",
      "Count of ) is 1\n"
     ]
    }
   ],
   "source": [
    "s = input(\"Enter a word, I'll tell u the count 😉 :\")\n",
    "temp=\"\"\n",
    "for i in s:\n",
    "        if i not in temp: \n",
    "            temp += i\n",
    "            print(f'Count of {i} is {s.count(i)}')"
   ]
  },
  {
   "cell_type": "code",
   "execution_count": 6,
   "id": "08ac026e",
   "metadata": {},
   "outputs": [
    {
     "name": "stdout",
     "output_type": "stream",
     "text": [
      "10\n",
      "Draw\n",
      "Move\n",
      "hello ^J^ \n"
     ]
    }
   ],
   "source": [
    "# CLASSES --> defines template or blue print for creating objects\n",
    "\n",
    "class PointClass:#Capitalize class &also(space) ---> Pascal naming convention\n",
    "    \n",
    "    #methods of the class\n",
    "    def move(self):\n",
    "        print(\"Move\")\n",
    "        \n",
    "    def draw(self):\n",
    "        print(\"Draw\")\n",
    "        \n",
    "# Object is an instance of a class\n",
    "point1 = PointClass() #point1 is a object\n",
    "point1.x = \"10\" # x is a attribute\n",
    "# we can set sttributes anywhere in a program.\n",
    "print(point1.x)\n",
    "point1.draw()\n",
    "point1.move()\n",
    "\n",
    "point2 = PointClass()\n",
    "point2.k = \"hello ^J^ \"\n",
    "print(point2.k)"
   ]
  },
  {
   "cell_type": "code",
   "execution_count": 7,
   "id": "b9eed7a9",
   "metadata": {},
   "outputs": [
    {
     "name": "stdout",
     "output_type": "stream",
     "text": [
      "90 20\n",
      "Draw\n",
      "None\n"
     ]
    }
   ],
   "source": [
    "#Constructors ---> is a fn that gets called at the time of creating a object\n",
    "class Point:\n",
    "    #constructor\n",
    "    def __init__(self,x,y):# init means initialize --> function or method that gets called when we create a new point object\n",
    "        self.x = x #1st x--> Attribute 2nd x--> Object\n",
    "        self.y = y #initializing \n",
    "        #self is a reference to a current object\n",
    "    \n",
    "    def move(self):\n",
    "        print(\"Move\")\n",
    "    \n",
    "    def draw(self):\n",
    "        print(\"Draw\")\n",
    "        \n",
    "pointx=Point(10,20)\n",
    "pointx.x = 90\n",
    "print(pointx.x,pointx.y)\n",
    "print(pointx.draw())"
   ]
  },
  {
   "cell_type": "code",
   "execution_count": 8,
   "id": "59d5b5bd",
   "metadata": {},
   "outputs": [
    {
     "name": "stdout",
     "output_type": "stream",
     "text": [
      "Mathew\n",
      "Hi ,I am Mathew\n",
      "Hi ,I am Annie Jack\n"
     ]
    }
   ],
   "source": [
    "class Person:\n",
    "    def __init__(self,name):\n",
    "        self.name = name\n",
    "    def talk(self):\n",
    "        print(f'Hi ,I am {self.name}')\n",
    "        \n",
    "john = Person(\"Mathew\")\n",
    "print(john.name)\n",
    "john.talk()\n",
    "\n",
    "Annie = Person(\"Annie Jack\")\n",
    "Annie.talk()\n"
   ]
  },
  {
   "cell_type": "code",
   "execution_count": 9,
   "id": "f5853e75",
   "metadata": {},
   "outputs": [
    {
     "name": "stdout",
     "output_type": "stream",
     "text": [
      "walk\n",
      "Bark\n",
      "Meoowww\n"
     ]
    }
   ],
   "source": [
    "#Inheritance---> is a mechanism for reusing the code\n",
    "\n",
    "class Mammal:\n",
    "    def walk(self):\n",
    "        print(\"walk\")\n",
    "    \n",
    "class Dog(Mammal):#dog class inherits all the methods of mammal class\n",
    "    def bark(self):\n",
    "        print(\"Bark\")\n",
    "    \n",
    "class Cat(Mammal):\n",
    "    #pass\n",
    "    def meow(self):\n",
    "        print(\"Meoowww\")\n",
    "  \n",
    "\n",
    "dog1 = Dog()\n",
    "dog1.walk()  \n",
    "dog1.bark()\n",
    "\n",
    "cat1 = Cat()\n",
    "cat1.meow()    "
   ]
  },
  {
   "cell_type": "code",
   "execution_count": null,
   "id": "92068a11",
   "metadata": {},
   "outputs": [],
   "source": [
    "#Modules -->break code into multiple files --> Each file is a module\n",
    "# Helps in organizing the code as well as reuse our code\n",
    "\n",
    "# Below is app.py file\n",
    "#First way\n",
    "import max\n",
    "list1=[1,2,3,4,5]\n",
    "print(max.maxi(list1))\n",
    "\n",
    "#Second way\n",
    "from max import *\n",
    "print(maxi(list1))\n",
    "\n",
    "\n",
    "\n",
    "#Below is max.py file\n",
    "def maxi(list1):\n",
    "    m = list1[0]\n",
    "    for item in list1:\n",
    "        if(item>m):\n",
    "            m=item\n",
    "    return m"
   ]
  },
  {
   "cell_type": "code",
   "execution_count": null,
   "id": "22fa94a8",
   "metadata": {},
   "outputs": [],
   "source": [
    "# Packages ---> organize code\n",
    "# Container for storing multiple modules\n",
    "# In file systems, package is a directory or a folder\n"
   ]
  },
  {
   "cell_type": "code",
   "execution_count": 11,
   "id": "bb656114",
   "metadata": {},
   "outputs": [
    {
     "name": "stdout",
     "output_type": "stream",
     "text": [
      "0.806111314416996\n",
      "0.9210357194358394\n",
      "0.6716047311779957\n",
      "0.48139564812363544\n",
      "0.7712920519586287\n",
      "12\n",
      "17\n",
      "11\n",
      "16\n",
      "14\n",
      "kiki\n"
     ]
    }
   ],
   "source": [
    "import random\n",
    "for i in range(5):\n",
    "    print(random.random())\n",
    "for i in range(5):\n",
    "    print(random.randint(10,20))\n",
    "mem = ['kiki','lili','koli']\n",
    "leader = random.choice(mem)\n",
    "print(leader)"
   ]
  }
 ],
 "metadata": {
  "kernelspec": {
   "display_name": "Python 3 (ipykernel)",
   "language": "python",
   "name": "python3"
  },
  "language_info": {
   "codemirror_mode": {
    "name": "ipython",
    "version": 3
   },
   "file_extension": ".py",
   "mimetype": "text/x-python",
   "name": "python",
   "nbconvert_exporter": "python",
   "pygments_lexer": "ipython3",
   "version": "3.10.2"
  }
 },
 "nbformat": 4,
 "nbformat_minor": 5
}

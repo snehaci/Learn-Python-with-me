{
 "cells": [
  {
   "cell_type": "code",
   "execution_count": 39,
   "id": "282671a1",
   "metadata": {},
   "outputs": [],
   "source": [
    "#Learn Python with me-2\n",
    "#Continuation"
   ]
  },
  {
   "cell_type": "code",
   "execution_count": 40,
   "id": "9e37eb1f",
   "metadata": {},
   "outputs": [
    {
     "name": "stdout",
     "output_type": "stream",
     "text": [
      "p\n",
      "y\n",
      "t\n",
      "h\n",
      "o\n",
      "n\n"
     ]
    }
   ],
   "source": [
    "#for loops\n",
    "for item in'python':\n",
    "    print(item)"
   ]
  },
  {
   "cell_type": "code",
   "execution_count": 41,
   "id": "e2f427d1",
   "metadata": {},
   "outputs": [
    {
     "name": "stdout",
     "output_type": "stream",
     "text": [
      "Joy\n",
      "Gragie\n"
     ]
    }
   ],
   "source": [
    "for item in ['Joy','Gragie']:\n",
    "    print(item)"
   ]
  },
  {
   "cell_type": "code",
   "execution_count": 42,
   "id": "6d73ff48",
   "metadata": {},
   "outputs": [
    {
     "name": "stdout",
     "output_type": "stream",
     "text": [
      "0 1 2 3 4 5 6 7 8 9 \n",
      "\n",
      "1\t2\t3\t4\t5\t"
     ]
    }
   ],
   "source": [
    "for item in range(10):\n",
    "    print(item,end = \" \")\n",
    "print(\"\\n\")\n",
    "for item in range(1,6):\n",
    "    print(item,end = \"\\t\")"
   ]
  },
  {
   "cell_type": "code",
   "execution_count": 17,
   "id": "349bd932",
   "metadata": {},
   "outputs": [
    {
     "name": "stdout",
     "output_type": "stream",
     "text": [
      "Total: 153\n"
     ]
    }
   ],
   "source": [
    "item_price = [90,43,20]\n",
    "total = 0\n",
    "for item in item_price:\n",
    "    total +=item\n",
    "print(f\"Total: {total}\")"
   ]
  },
  {
   "cell_type": "code",
   "execution_count": 19,
   "id": "5a265066",
   "metadata": {},
   "outputs": [
    {
     "name": "stdout",
     "output_type": "stream",
     "text": [
      "(0,0)\n",
      "(0,1)\n",
      "(0,2)\n",
      "(0,3)\n",
      "(1,0)\n",
      "(1,1)\n",
      "(1,2)\n",
      "(1,3)\n",
      "(2,0)\n",
      "(2,1)\n",
      "(2,2)\n",
      "(2,3)\n"
     ]
    }
   ],
   "source": [
    "#Nested loops\n",
    "for x in range(3):\n",
    "    for y in range(4):\n",
    "        print(f\"({x},{y})\")"
   ]
  },
  {
   "cell_type": "code",
   "execution_count": 2,
   "id": "e8a040f7",
   "metadata": {},
   "outputs": [
    {
     "name": "stdout",
     "output_type": "stream",
     "text": [
      "FFFFF\n",
      "FF\n",
      "FFFFF\n",
      "FF\n",
      "FF\n"
     ]
    }
   ],
   "source": [
    "#To print F shape\n",
    "no = [5,2,5,2,2]\n",
    "for a in no:\n",
    "    print('F' * a)"
   ]
  },
  {
   "cell_type": "code",
   "execution_count": 8,
   "id": "5119bbb2",
   "metadata": {},
   "outputs": [
    {
     "name": "stdout",
     "output_type": "stream",
     "text": [
      "xxxxx\n",
      "xx\n",
      "xxxxx\n",
      "xx\n",
      "xx\n",
      "\n",
      "x\n",
      "x\n",
      "x\n",
      "x\n",
      "xxxxx\n"
     ]
    }
   ],
   "source": [
    "#another approach\n",
    "no = [5,2,5,2,2]\n",
    "for count in no:\n",
    "    output = ''\n",
    "    for c in range(count):\n",
    "        output += 'x'\n",
    "    print(output)\n",
    "#to print 'L'\n",
    "print(\"\")\n",
    "n = [1,1,1,1,5]\n",
    "for count in n:\n",
    "    output = ''\n",
    "    for c in range(count):\n",
    "        output += 'x'\n",
    "    print(output)"
   ]
  },
  {
   "cell_type": "code",
   "execution_count": 18,
   "id": "2585b0da",
   "metadata": {},
   "outputs": [
    {
     "name": "stdout",
     "output_type": "stream",
     "text": [
      "1\n",
      "5\n",
      "[1, 1]\n",
      "[5, 1, 1, 1, 'snek']\n",
      "['snek', 1, 1, 1, 5]\n",
      "[1, 5]\n",
      "5\n"
     ]
    }
   ],
   "source": [
    "# list \n",
    "# index range and slicing\n",
    "print(n[2])\n",
    "print(n[-1])\n",
    "print(n[1:3])\n",
    "print(n[::-1])\n",
    "n[0] = \"snek\"\n",
    "print(n)\n",
    "print(n[2::2])\n",
    "#print(max(n)) \n",
    "#TypeError: '>' not supported between instances of 'int' and 'str'\n",
    "print(max(no))"
   ]
  },
  {
   "cell_type": "code",
   "execution_count": 20,
   "id": "c27cca5b",
   "metadata": {},
   "outputs": [
    {
     "name": "stdout",
     "output_type": "stream",
     "text": [
      "[[3, 4, 5], [3, 6, 7]]\n",
      "[[3, 4, 5], [3, 6, 24]]\n",
      "3\n",
      "4\n",
      "5\n",
      "3\n",
      "6\n",
      "24\n"
     ]
    }
   ],
   "source": [
    "#2D lists -->Powerful, Applications --> DataScience and Machine learning\n",
    "matrix = [[3,4,5],[3,6,7]]\n",
    "print(matrix)\n",
    "matrix[1][2]=24\n",
    "print(matrix)\n",
    "\n",
    "for row in matrix:\n",
    "    for item in row:\n",
    "        print(item)"
   ]
  },
  {
   "cell_type": "code",
   "execution_count": 35,
   "id": "9a7c40ca",
   "metadata": {},
   "outputs": [
    {
     "name": "stdout",
     "output_type": "stream",
     "text": [
      "['bulldog', 'pug', 'Golden Retriever', 'labrador']\n",
      "['bulldog', 'pug', 'Pomerarian', 'Golden Retriever', 'labrador']\n",
      "['bulldog', 'Pomerarian', 'Golden Retriever', 'labrador']\n",
      "['bulldog', 'Pomerarian', 'Golden Retriever']\n",
      "[]\n"
     ]
    }
   ],
   "source": [
    "#List methods\n",
    "dogs = ['bulldog','pug','Golden Retriever']\n",
    "dogs.append('labrador')\n",
    "print(dogs)\n",
    "dogs.insert(2,'Pomerarian')\n",
    "print(dogs)\n",
    "dogs.remove('pug')\n",
    "print(dogs)\n",
    "dogs.pop()\n",
    "print(dogs)\n",
    "dogs.clear()\n",
    "print(dogs)\n"
   ]
  },
  {
   "cell_type": "code",
   "execution_count": 36,
   "id": "f48759c3",
   "metadata": {},
   "outputs": [
    {
     "name": "stdout",
     "output_type": "stream",
     "text": [
      "False\n",
      "2\n",
      "None\n",
      "[9, 8, 0, 0]\n"
     ]
    }
   ],
   "source": [
    "#check for existence of a item\n",
    "print('bulldog' in dogs)\n",
    "# count of a number\n",
    "a = [0,9,0,8]\n",
    "print(a.count(0))\n",
    "# Ascending , Decending\n",
    "print(a.sort())\n",
    "a.sort()\n",
    "a.reverse()\n",
    "print(a)"
   ]
  },
  {
   "cell_type": "code",
   "execution_count": 37,
   "id": "d27fade7",
   "metadata": {},
   "outputs": [
    {
     "name": "stdout",
     "output_type": "stream",
     "text": [
      "[9, 8, 0]\n"
     ]
    }
   ],
   "source": [
    "#Remove duplicates\n",
    "f =[]\n",
    "for n in a:\n",
    "    if n not in f:\n",
    "        f.append(n)\n",
    "print(f)"
   ]
  },
  {
   "cell_type": "code",
   "execution_count": 38,
   "id": "559e070a",
   "metadata": {},
   "outputs": [],
   "source": [
    "#Tuples --> (IMMUTABLE)--> unchangeable (Similar to list)"
   ]
  },
  {
   "cell_type": "code",
   "execution_count": 2,
   "id": "4c1f48b7",
   "metadata": {},
   "outputs": [
    {
     "name": "stdout",
     "output_type": "stream",
     "text": [
      "(1, 3, 'hi')\n"
     ]
    }
   ],
   "source": [
    "tup1 = (1,3,'hi')\n",
    "#tup1[2] = 5\n",
    "#TypeError: 'tuple' object does not support item assignment\n",
    "print(tup1)"
   ]
  },
  {
   "cell_type": "code",
   "execution_count": 10,
   "id": "880658ea",
   "metadata": {},
   "outputs": [
    {
     "name": "stdout",
     "output_type": "stream",
     "text": [
      "3\n",
      "1\n",
      "1\n"
     ]
    }
   ],
   "source": [
    "print(tup1[1])\n",
    "print(tup1.count('hi'))\n",
    "print(tup1.index(3))\n",
    "#Only two methods"
   ]
  },
  {
   "cell_type": "code",
   "execution_count": 17,
   "id": "0de5e6fd",
   "metadata": {},
   "outputs": [
    {
     "name": "stdout",
     "output_type": "stream",
     "text": [
      "(1, 3, 'hi', 'hello', 90, 78, 6.89)\n",
      "('hello', 90, 78, 6.89, 'hello', 90, 78, 6.89, 'hello', 90, 78, 6.89)\n"
     ]
    }
   ],
   "source": [
    "tup2 = ('hello',90,78,6.89)\n",
    "print(tup1+tup2)\n",
    "print(tup2*3)\n",
    "del tup2\n",
    "#print(tup2)\n",
    "#NameError: name 'tup2' is not defined\n",
    "#tup2 is deleted but cannot delete a particular element "
   ]
  },
  {
   "cell_type": "code",
   "execution_count": 21,
   "id": "ed90592f",
   "metadata": {},
   "outputs": [
    {
     "name": "stdout",
     "output_type": "stream",
     "text": [
      "3\n",
      "90\n",
      "6.89\n",
      "[6.89, 78, 90]\n",
      "174.89\n"
     ]
    }
   ],
   "source": [
    "#tuple uses some basic builtin functions\n",
    "tup3 = (90,78,6.89)\n",
    "print(len(tup3))\n",
    "print(max(tup3))\n",
    "print(min(tup3))\n",
    "print(sorted(tup3))\n",
    "print(sum(tup3))"
   ]
  },
  {
   "cell_type": "code",
   "execution_count": 24,
   "id": "a8c54220",
   "metadata": {},
   "outputs": [
    {
     "name": "stdout",
     "output_type": "stream",
     "text": [
      "90 78 6.89\n",
      "6.89\n"
     ]
    }
   ],
   "source": [
    "#unpacking\n",
    "x,y,z = tup3\n",
    "print(x,y,z)\n",
    "print(z)"
   ]
  },
  {
   "cell_type": "code",
   "execution_count": 34,
   "id": "dce26a3c",
   "metadata": {},
   "outputs": [
    {
     "name": "stdout",
     "output_type": "stream",
     "text": [
      "Meenakshi\n",
      "Sundhareshan\n",
      "None\n",
      "2021\n"
     ]
    }
   ],
   "source": [
    "#Dictionaries --> Key - value pairs\n",
    "#Each key must be unique\n",
    "names = {\n",
    "    'boy':\"Sundhareshan\",\n",
    "    'girl':\"Meenakshi\",\n",
    "    'is_names':True,\n",
    "    'mobile': 7068534\n",
    "}\n",
    "print(names['girl'])\n",
    "print(names.get(\"boy\"))\n",
    "print(names.get(\"DOB\"))\n",
    "names[\"DOY\"]=2021\n",
    "print(names[\"DOY\"])"
   ]
  },
  {
   "cell_type": "code",
   "execution_count": 42,
   "id": "03824cc2",
   "metadata": {},
   "outputs": [
    {
     "name": "stdout",
     "output_type": "stream",
     "text": [
      "Number : 12351\n",
      "one two ! ! one \n"
     ]
    }
   ],
   "source": [
    "#Mapping 1-->one 2--> two\n",
    "o = input(\"Number : \")\n",
    "mapping={\n",
    "    \"1\":\"one\",\n",
    "    \"2\":\"two\"\n",
    "}\n",
    "p=\"\"\n",
    "for i in o:\n",
    "    p+=mapping.get(i,\"!\")+ \" \"\n",
    "print(p)"
   ]
  }
 ],
 "metadata": {
  "kernelspec": {
   "display_name": "Python 3 (ipykernel)",
   "language": "python",
   "name": "python3"
  },
  "language_info": {
   "codemirror_mode": {
    "name": "ipython",
    "version": 3
   },
   "file_extension": ".py",
   "mimetype": "text/x-python",
   "name": "python",
   "nbconvert_exporter": "python",
   "pygments_lexer": "ipython3",
   "version": "3.10.2"
  }
 },
 "nbformat": 4,
 "nbformat_minor": 5
}

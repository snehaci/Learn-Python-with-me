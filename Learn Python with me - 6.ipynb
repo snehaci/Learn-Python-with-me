{
 "cells": [
  {
   "cell_type": "code",
   "execution_count": 1,
   "id": "3092090c",
   "metadata": {},
   "outputs": [
    {
     "name": "stdout",
     "output_type": "stream",
     "text": [
      "The class advisor :  Rosy\n",
      "The class Representative :  Tina\n",
      "The students are : \n",
      "Jack\n",
      "Peter\n",
      "There are 2 students in this class\n",
      "The class advisor :  Lily\n",
      "The class Representative :  Mark\n",
      "The students are : \n",
      "Annie\n",
      "Jacob\n",
      "Andrews\n",
      "There are 3 students in this class\n"
     ]
    }
   ],
   "source": [
    "#Function Eg\n",
    "def class_a(tutor,Rep,*students):\n",
    "    print(\"The class advisor : \",tutor)\n",
    "    print(\"The class Representative : \",Rep)\n",
    "    count = 0\n",
    "    print(\"The students are : \")\n",
    "    for s in students:\n",
    "        print(s)\n",
    "        count+=1\n",
    "    print(\"There are %d students in this class\"%count)\n",
    "\n",
    "class_a(\"Rosy\",\"Tina\",\"Jack\",\"Peter\")\n",
    "class_a(\"Lily\",\"Mark\",\"Annie\",\"Jacob\",\"Andrews\")"
   ]
  },
  {
   "cell_type": "code",
   "execution_count": 2,
   "id": "fdea02a4",
   "metadata": {},
   "outputs": [
    {
     "name": "stdout",
     "output_type": "stream",
     "text": [
      "4\n",
      "1\n"
     ]
    }
   ],
   "source": [
    "#Lambda functions --->Small anonymous function\n",
    "#It can take any no of arguments but has only 1 expression\n",
    "equ = lambda x:x**2 + 2*x +1\n",
    "print(equ(1))\n",
    "print(equ(-2))"
   ]
  },
  {
   "cell_type": "code",
   "execution_count": 3,
   "id": "c4896d56",
   "metadata": {},
   "outputs": [
    {
     "name": "stdout",
     "output_type": "stream",
     "text": [
      "Enter length and breadth : 2 3\n",
      "Peri : 10\n",
      "Area : 6\n"
     ]
    }
   ],
   "source": [
    "# Perimeter and area of rectangle\n",
    "def pa(l,b):\n",
    "    return 2*(l+b),l*b\n",
    "\n",
    "length,breadth = [int(l) for l in input(\"Enter length and breadth : \").split()]\n",
    "(peri,area) = pa(length,breadth)\n",
    "print(\"Peri :\",peri)\n",
    "print(\"Area :\",area)"
   ]
  },
  {
   "cell_type": "code",
   "execution_count": 4,
   "id": "fb7e0282",
   "metadata": {},
   "outputs": [
    {
     "name": "stdout",
     "output_type": "stream",
     "text": [
      "I like 6 and I hate 7\n"
     ]
    }
   ],
   "source": [
    "print(\"I like {} and I hate {}\".format(6,7))"
   ]
  },
  {
   "cell_type": "code",
   "execution_count": 7,
   "id": "a2c2ff2b",
   "metadata": {},
   "outputs": [
    {
     "name": "stdout",
     "output_type": "stream",
     "text": [
      "567\n",
      "18\n"
     ]
    }
   ],
   "source": [
    "#Sum of digits of a number\n",
    "n = int(input())\n",
    "s = 0\n",
    "while(n>0):\n",
    "    s += n%10 \n",
    "    n = n//10 \n",
    "print(s)"
   ]
  },
  {
   "cell_type": "code",
   "execution_count": 8,
   "id": "c2413527",
   "metadata": {},
   "outputs": [
    {
     "name": "stdout",
     "output_type": "stream",
     "text": [
      "3 45\n",
      "Total minutes : 225\n",
      "42\n"
     ]
    }
   ],
   "source": [
    "#Total minutes\n",
    "h,m = [int(h) for h in input().split()]\n",
    "print(\"Total minutes :\",h*60+m)\n",
    "print(abs(h-m))"
   ]
  },
  {
   "cell_type": "code",
   "execution_count": 9,
   "id": "97cca235",
   "metadata": {},
   "outputs": [
    {
     "name": "stdout",
     "output_type": "stream",
     "text": [
      "65\n"
     ]
    }
   ],
   "source": [
    "print(ord(\"A\"))#returns unicode"
   ]
  },
  {
   "cell_type": "code",
   "execution_count": 10,
   "id": "e7bf471f",
   "metadata": {},
   "outputs": [
    {
     "name": "stdout",
     "output_type": "stream",
     "text": [
      "A Word? hey there\n",
      "h\n",
      "y\n",
      " \n",
      "t\n",
      "h\n",
      "r\n"
     ]
    }
   ],
   "source": [
    "#To print Consonants\n",
    "f = input(\"A Word? \").strip()\n",
    "vow = \"aeiou\"\n",
    "for c in f:\n",
    "    if c not in vow:\n",
    "        print(c)"
   ]
  },
  {
   "cell_type": "code",
   "execution_count": 11,
   "id": "feed0bd4",
   "metadata": {},
   "outputs": [
    {
     "name": "stdout",
     "output_type": "stream",
     "text": [
      "A float Number? 3.455678\n",
      "Resultant of 3.455678 is 3.46\n"
     ]
    }
   ],
   "source": [
    "#Float Eg\n",
    "g = float(input(\"A float Number? \"))\n",
    "\n",
    "print(\"Resultant of %f is %.2f\"%(g,g))"
   ]
  },
  {
   "cell_type": "code",
   "execution_count": 12,
   "id": "717b8515",
   "metadata": {},
   "outputs": [
    {
     "name": "stdout",
     "output_type": "stream",
     "text": [
      "8\n",
      "8\n",
      "7\n",
      "6\n",
      "5\n",
      "4\n",
      "3\n",
      "2\n",
      "1\n"
     ]
    }
   ],
   "source": [
    "#Reverse order\n",
    "n = int(input())\n",
    "for i in reversed(range(1,n+1)):\n",
    "    print(i)"
   ]
  },
  {
   "cell_type": "code",
   "execution_count": 13,
   "id": "fbcf638e",
   "metadata": {},
   "outputs": [
    {
     "name": "stdout",
     "output_type": "stream",
     "text": [
      "Enter u'r favorite word in collaboration with some favo digits 😉😉 :dfghyt6745rty\n",
      "The digits are :\t 6745\n",
      "The non-digits are :\t dfghytrty\n",
      "The alphabets are :\t dfghytrty"
     ]
    }
   ],
   "source": [
    "# 're' module supports regular expression in python\n",
    "# Link --->> https://www.w3schools.com/python/python_regex.asp\n",
    "import re\n",
    "string = input(\"Enter u'r favorite word in collaboration with some favo digits 😉😉 :\")\n",
    "result = re.findall(\"[\\d]\", string)\n",
    "t = re.findall(\"[^\\d]\", string)\n",
    "res = re.findall(\"[a-z]\",string)\n",
    "print(\"The digits are :\\t\",end=\" \")\n",
    "for r in result:\n",
    "    print(r,end=\"\")\n",
    "print(\"\\nThe non-digits are :\\t\",end=\" \")\n",
    "for r in t:\n",
    "    print(r,end=\"\")\n",
    "print(\"\\nThe alphabets are :\\t\",end=\" \")\n",
    "for r in res:\n",
    "    print(r,end=\"\")"
   ]
  },
  {
   "cell_type": "code",
   "execution_count": 15,
   "id": "ff1b87a8",
   "metadata": {},
   "outputs": [
    {
     "name": "stdout",
     "output_type": "stream",
     "text": [
      "toy 45 car s\n",
      "After white space removal :  toy45cars"
     ]
    }
   ],
   "source": [
    "string = input()\n",
    "res = re.findall(r\"\\S\",string) #removes white space\n",
    "print(\"After white space removal : \",end= \" \")\n",
    "for r in res:\n",
    "    print(r,end=\"\")"
   ]
  },
  {
   "cell_type": "code",
   "execution_count": 17,
   "id": "7dc5846a",
   "metadata": {},
   "outputs": [
    {
     "name": "stdout",
     "output_type": "stream",
     "text": [
      "45%Xyxyxy\n",
      "xyxy"
     ]
    }
   ],
   "source": [
    "string = input()\n",
    "res = re.findall(r\"xy+\",string) #finds xy\n",
    "\n",
    "for r in res:\n",
    "    print(r,end=\"\")"
   ]
  },
  {
   "cell_type": "code",
   "execution_count": 18,
   "id": "895634c5",
   "metadata": {},
   "outputs": [
    {
     "name": "stdout",
     "output_type": "stream",
     "text": [
      "11333345678nvmkfkmm222\n",
      "113333222"
     ]
    }
   ],
   "source": [
    "string = input()\n",
    "res = re.findall(r\"1{2}|2{3}|3{1}\",string) \n",
    "\n",
    "for r in res:\n",
    "    print(r,end=\"\")"
   ]
  },
  {
   "cell_type": "code",
   "execution_count": 19,
   "id": "8d0f182b",
   "metadata": {},
   "outputs": [
    {
     "name": "stdout",
     "output_type": "stream",
     "text": [
      "sdxxxcnvhxxxxdhhgjxxxxxx\n",
      "xxxxxxxxxxxx"
     ]
    }
   ],
   "source": [
    "string = input()\n",
    "res = re.findall(r\"x{3,5}\",string) \n",
    "\n",
    "for r in res:\n",
    "    print(r,end=\"\")"
   ]
  },
  {
   "cell_type": "code",
   "execution_count": 20,
   "id": "6103f079",
   "metadata": {},
   "outputs": [
    {
     "name": "stdout",
     "output_type": "stream",
     "text": [
      "sdabcabcdabchdajkjkacbcabcdcd\n",
      "2\n"
     ]
    }
   ],
   "source": [
    "string = input()\n",
    "res = re.findall(r\"(?<=ab)cd\",string)\n",
    "count = 0\n",
    "for r in res:\n",
    "    count +=1\n",
    "print(count)"
   ]
  },
  {
   "cell_type": "code",
   "execution_count": null,
   "id": "3003e18f",
   "metadata": {},
   "outputs": [],
   "source": []
  }
 ],
 "metadata": {
  "kernelspec": {
   "display_name": "Python 3 (ipykernel)",
   "language": "python",
   "name": "python3"
  },
  "language_info": {
   "codemirror_mode": {
    "name": "ipython",
    "version": 3
   },
   "file_extension": ".py",
   "mimetype": "text/x-python",
   "name": "python",
   "nbconvert_exporter": "python",
   "pygments_lexer": "ipython3",
   "version": "3.10.2"
  }
 },
 "nbformat": 4,
 "nbformat_minor": 5
}
